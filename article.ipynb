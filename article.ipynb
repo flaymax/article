{
 "cells": [
  {
   "cell_type": "markdown",
   "metadata": {
    "id": "eRPSKX2zNcr4"
   },
   "source": [
    "Реализация Vision Transformer по <a href=\"https://arxiv.org/pdf/2010.11929.pdf\">статье</a>. "
   ]
  },
  {
   "cell_type": "code",
   "execution_count": 1,
   "metadata": {
    "id": "1I6tNVfNaBpa"
   },
   "outputs": [],
   "source": [
    "import tensorflow as tf\n",
    "import matplotlib.pyplot as plt\n",
    "import numpy as np \n",
    "from tensorflow import keras"
   ]
  },
  {
   "cell_type": "markdown",
   "metadata": {},
   "source": [
    "<img src=\"https://github.com/lucidrains/vit-pytorch/raw/main/images/vit.gif\">\n",
    "\n",
    "While the Transformer architecture has become the de-facto standard for natural language processing tasks, its applications to computer vision remain limited. In vision, attention is either applied in conjunction with convolutional networks, or used to replace certain components of convolutional networks while keeping their overall structure in place. We show that this reliance on CNNs is not necessary and a pure transformer applied directly to sequences of image patches can perform very well on image classification tasks. When pre-trained on large amounts of data and transferred to multiple mid-sized or small image recognition benchmarks (ImageNet, CIFAR-100, VTAB, etc.), Vision Transformer (ViT) attains excellent results compared to state-of-the-art convolutional networks while requiring substantially fewer computational resources to train."
   ]
  },
  {
   "cell_type": "code",
   "execution_count": 3,
   "metadata": {
    "colab": {
     "base_uri": "https://localhost:8080/"
    },
    "id": "WZfLnBhxF_5w",
    "outputId": "04fdd3f8-a5e2-48a7-a211-3b83d892b8e2"
   },
   "outputs": [
    {
     "name": "stdout",
     "output_type": "stream",
     "text": [
      "x_train shape: (50000, 32, 32, 3) - y_train shape: (50000, 1)\n",
      "x_test shape: (10000, 32, 32, 3) - y_test shape: (10000, 1)\n"
     ]
    }
   ],
   "source": [
    "(x_train, y_train), (x_test, y_test) = tf.keras.datasets.cifar10.load_data() #keras.datasets.cifar100.load_data() \n",
    "\n",
    "print(f\"x_train shape: {x_train.shape} - y_train shape: {y_train.shape}\")\n",
    "print(f\"x_test shape: {x_test.shape} - y_test shape: {y_test.shape}\")"
   ]
  },
  {
   "cell_type": "markdown",
   "metadata": {
    "id": "bx5bKO9VN7TX"
   },
   "source": [
    "Для начала напишем класс разбиения изображения на патчи (маленькие фрагменты)."
   ]
  },
  {
   "cell_type": "code",
   "execution_count": 8,
   "metadata": {
    "id": "r6F7G_UcaSz_"
   },
   "outputs": [],
   "source": [
    "class PatchEmbedding(tf.keras.layers.Layer):\n",
    "  def __init__(self , size , num_of_patches , projection_dim):\n",
    "    super().__init__()\n",
    "\n",
    "    self.size=size\n",
    "    self.num_of_patches= num_of_patches + 1\n",
    "    self.projection_dim=projection_dim\n",
    "\n",
    "    self.projection=tf.keras.layers.Dense(projection_dim)\n",
    "\n",
    "    self.clsToken= tf.Variable(tf.keras.initializers.GlorotNormal()(shape=(1 , 1 , projection_dim)) , trainable=True)\n",
    "    #create vector for each patch \n",
    "    self.positionalEmbedding = tf.keras.layers.Embedding(self.num_of_patches , projection_dim)\n",
    "\n",
    "\n",
    "  def call(self, inputs):\n",
    "    patches = tf.image.extract_patches(inputs , \n",
    "                                       sizes=[1 , self.size , self.size , 1], \n",
    "                                       strides=[1 , self.size , self.size , 1], \n",
    "                                       rates=[1 ,1 ,1 ,1], \n",
    "                                       padding=\"VALID\",)\n",
    "    patches=tf.reshape(patches, (tf.shape(inputs)[0], -1, self.size * self.size *3))\n",
    "    patches= self.projection(patches)\n",
    "\n",
    "    # repeat cls token length of batch size\n",
    "    clsToken = tf.repeat(self.clsToken , tf.shape(inputs)[0] , 0)\n",
    "    patches = tf.concat((clsToken, patches) , axis=1)\n",
    "    # create position number for each patch\n",
    "    positions = tf.range(0 , self.num_of_patches , 1)[tf.newaxis , ...]\n",
    "    positionalEmbedding = self.positionalEmbedding(positions)\n",
    "\n",
    "    #print(positionalEmbedding)\n",
    "    patches= patches + positionalEmbedding\n",
    "    return patches\n"
   ]
  },
  {
   "cell_type": "code",
   "execution_count": 9,
   "metadata": {
    "id": "tIIKxkNQaVa5"
   },
   "outputs": [],
   "source": [
    "class TransformerLayer(tf.keras.layers.Layer):\n",
    "  def __init__(self , d_model , heads , mlp_rate , dropout_rate=0.1):\n",
    "    super().__init__()\n",
    "\n",
    "    self.layernorm_1 = tf.keras.layers.LayerNormalization(epsilon=1e-6)\n",
    "    self.mha= tf.keras.layers.MultiHeadAttention(heads, d_model//heads , dropout=dropout_rate)\n",
    "\n",
    "    self.layernorm_2 = tf.keras.layers.LayerNormalization(epsilon=1e-6)\n",
    "    self.mlp = tf.keras.Sequential([\n",
    "                                    tf.keras.layers.Dense(d_model * mlp_rate , activation=\"gelu\"),\n",
    "                                    tf.keras.layers.Dropout(dropout_rate),\n",
    "                                    tf.keras.layers.Dense(d_model , activation=\"gelu\"),\n",
    "                                    tf.keras.layers.Dropout(dropout_rate)\n",
    "    ])\n",
    "  def call(self , inputs , training=True):\n",
    "    out_1 = self.layernorm_1(inputs)\n",
    "    out_1 = self.mha(out_1 , out_1 ,training=training)\n",
    "    out_1 = inputs + out_1\n",
    "\n",
    "    out_2= self.layernorm_2(out_1)\n",
    "    out_2=self.mlp(out_2 , training=training)\n",
    "    out_2 = out_1 + out_2\n",
    "\n",
    "    return out_2\n"
   ]
  },
  {
   "cell_type": "code",
   "execution_count": 10,
   "metadata": {
    "id": "Agtd7wuZaVYT"
   },
   "outputs": [],
   "source": [
    "class TransformerEncoder(tf.keras.layers.Layer):\n",
    "  def __init__(self , d_model , heads , mlp_rate , num_layers=1 , dropout_rate=0.1):\n",
    "    super().__init__()\n",
    "\n",
    "    self.encoders = [TransformerLayer(d_model , heads , mlp_rate , dropout_rate) for _ in range(num_layers)]\n",
    "\n",
    "  def call(self , inputs , training=True):\n",
    "    x =inputs\n",
    "\n",
    "    for layer in self.encoders:\n",
    "      x = layer(x , training=training)\n",
    "\n",
    "    return x\n"
   ]
  },
  {
   "cell_type": "code",
   "execution_count": 11,
   "metadata": {
    "id": "pBSWdZNRaVVb"
   },
   "outputs": [],
   "source": [
    "class ViT(tf.keras.Model):\n",
    "  def __init__(self , num_classes , patch_size , num_of_patches , d_model , heads , num_layers , mlp_rate , dropout_rate=0.1):\n",
    "    super().__init__()\n",
    "\n",
    "    self.patchEmbedding = PatchEmbedding(patch_size , num_of_patches , d_model)\n",
    "    self.encoder = TransformerEncoder(d_model , heads , mlp_rate  ,num_layers , dropout_rate)\n",
    "\n",
    "    self.prediction = tf.keras.Sequential([\n",
    "                                           tf.keras.layers.Dropout(0.3),\n",
    "                                           tf.keras.layers.Dense(mlp_rate * d_model , activation=\"gelu\"),\n",
    "                                           tf.keras.layers.Dropout(0.2),       \n",
    "                                           tf.keras.layers.Dense(num_classes, activation=\"softmax\")\n",
    "\n",
    "                                           \n",
    "  ])\n",
    "  def call(self , inputs ,  training=True):\n",
    "    patches = self.patchEmbedding(inputs)\n",
    "    encoderResult = self.encoder(patches, training=training)\n",
    "\n",
    "    clsResult = encoderResult[: , 0 , :]\n",
    "\n",
    "    prediction = self.prediction(clsResult,\n",
    "                                 training=training)\n",
    "    return prediction\n"
   ]
  },
  {
   "cell_type": "code",
   "execution_count": 8,
   "metadata": {
    "id": "A75IVpE5aVQw"
   },
   "outputs": [],
   "source": [
    "image_size=72\n",
    "preprocessingModel = tf.keras.Sequential(\n",
    "    [\n",
    "        tf.keras.layers.experimental.preprocessing.Normalization(),\n",
    "        tf.keras.layers.experimental.preprocessing.Resizing(image_size, image_size),\n",
    "    ]\n",
    ")\n",
    "# Compute the mean and the variance of the training data for normalization.\n",
    "preprocessingModel.layers[0].adapt(x_train)\n",
    "\n",
    "augmentationModel = tf.keras.Sequential(\n",
    "    [\n",
    "        tf.keras.layers.experimental.preprocessing.RandomFlip(\"horizontal\"),\n",
    "        tf.keras.layers.experimental.preprocessing.RandomRotation(factor=0.02),\n",
    "        tf.keras.layers.experimental.preprocessing.RandomZoom(\n",
    "            height_factor=0.2, width_factor=0.2\n",
    "        ),\n",
    "    ]\n",
    ")\n"
   ]
  },
  {
   "cell_type": "code",
   "execution_count": 5,
   "metadata": {
    "id": "uy6A6fjaa38y"
   },
   "outputs": [],
   "source": [
    "def convert_to_dataset(data, batch_size, shuffle=False , augment=False):\n",
    "  dataset = tf.data.Dataset.from_tensor_slices(data)\n",
    "  dataset = dataset.map(lambda x , y: (preprocessingModel(x) [0] , y) , num_parallel_calls=tf.data.AUTOTUNE)\n",
    "\n",
    "  if shuffle:\n",
    "    dataset= dataset.shuffle(len(dataset))\n",
    "\n",
    "  dataset = dataset.batch(batch_size , drop_remainder=True)\n",
    "\n",
    "  if augment:\n",
    "    dataset = dataset.map(lambda x , y: (augmentationModel(x , training=True) , y) , num_parallel_calls=tf.data.AUTOTUNE)\n",
    "\n",
    "  return dataset.prefetch(tf.data.AUTOTUNE)\n"
   ]
  },
  {
   "cell_type": "code",
   "execution_count": 10,
   "metadata": {
    "colab": {
     "base_uri": "https://localhost:8080/"
    },
    "id": "F5XMQMJIaVOs",
    "outputId": "37b9d226-d23c-4fb5-d6e0-248a82f0a289"
   },
   "outputs": [
    {
     "name": "stdout",
     "output_type": "stream",
     "text": [
      "<PrefetchDataset element_spec=(TensorSpec(shape=(1024, 72, 72, 3), dtype=tf.float32, name=None), TensorSpec(shape=(1024, 1), dtype=tf.uint8, name=None))>\n",
      "<PrefetchDataset element_spec=(TensorSpec(shape=(1024, 72, 72, 3), dtype=tf.float32, name=None), TensorSpec(shape=(1024, 1), dtype=tf.uint8, name=None))>\n"
     ]
    }
   ],
   "source": [
    "trainingData = convert_to_dataset((x_train , y_train) , 1024 , shuffle=True , augment=True)\n",
    "valData = convert_to_dataset((x_test , y_test) , 1024 , shuffle=False , augment=False)\n",
    "\n",
    "print(trainingData)\n",
    "print(valData)\n"
   ]
  },
  {
   "cell_type": "code",
   "execution_count": 32,
   "metadata": {
    "colab": {
     "base_uri": "https://localhost:8080/"
    },
    "id": "Cyz3jnegid7O",
    "outputId": "fd6e3e59-e3a1-436f-8f1b-433f7e4dc479"
   },
   "outputs": [
    {
     "data": {
      "text/plain": [
       "(50000, 32, 32, 3)"
      ]
     },
     "execution_count": 32,
     "metadata": {},
     "output_type": "execute_result"
    }
   ],
   "source": [
    "x_train.shape"
   ]
  },
  {
   "cell_type": "code",
   "execution_count": 11,
   "metadata": {
    "id": "OjNeiBuYDFF3"
   },
   "outputs": [],
   "source": [
    "def scheduler(epoch, lr):\n",
    "    if epoch < 35:\n",
    "        return lr\n",
    "    else:\n",
    "        if epoch % 2:\n",
    "            return lr * tf.math.exp(-0.1)\n",
    "        else:\n",
    "            return lr\n",
    "\n",
    "callback = tf.keras.callbacks.LearningRateScheduler(scheduler)"
   ]
  },
  {
   "cell_type": "code",
   "execution_count": 12,
   "metadata": {
    "id": "37vUV4uwaVJ-"
   },
   "outputs": [],
   "source": [
    "vitClassifier = ViT(num_classes=10, patch_size=6, num_of_patches=144,\n",
    "                d_model=128, heads=2, num_layers=4,\n",
    "                mlp_rate=2, dropout_rate=0.1)\n",
    "\n",
    "vitClassifier.compile(\n",
    "  optimizer=\"adam\",\n",
    "  loss=tf.keras.losses.SparseCategoricalCrossentropy(),\n",
    "  metrics=[\n",
    "      tf.keras.metrics.SparseCategoricalAccuracy(name=\"accuracy\"),\n",
    "      tf.keras.metrics.SparseTopKCategoricalAccuracy(5, name=\"top-5-accuracy\"),\n",
    "  ],\n",
    ")\n"
   ]
  },
  {
   "cell_type": "code",
   "execution_count": 13,
   "metadata": {
    "colab": {
     "base_uri": "https://localhost:8080/"
    },
    "id": "bBs2dtNnaVHH",
    "outputId": "2d5802d5-ccf9-4c15-ea63-0bc641bcfe11"
   },
   "outputs": [
    {
     "name": "stdout",
     "output_type": "stream",
     "text": [
      "Epoch 1/100\n",
      "48/48 [==============================] - 62s 1s/step - loss: 1.9906 - accuracy: 0.2598 - top-5-accuracy: 0.7874 - val_loss: 1.7248 - val_accuracy: 0.3525 - val_top-5-accuracy: 0.8684 - lr: 0.0010\n",
      "Epoch 2/100\n",
      "48/48 [==============================] - 55s 1s/step - loss: 1.7111 - accuracy: 0.3627 - top-5-accuracy: 0.8736 - val_loss: 1.5358 - val_accuracy: 0.4328 - val_top-5-accuracy: 0.9093 - lr: 0.0010\n",
      "Epoch 3/100\n",
      "48/48 [==============================] - 55s 1s/step - loss: 1.5458 - accuracy: 0.4360 - top-5-accuracy: 0.9071 - val_loss: 1.4467 - val_accuracy: 0.4778 - val_top-5-accuracy: 0.9209 - lr: 0.0010\n",
      "Epoch 4/100\n",
      "48/48 [==============================] - 55s 1s/step - loss: 1.4059 - accuracy: 0.4871 - top-5-accuracy: 0.9269 - val_loss: 1.2721 - val_accuracy: 0.5401 - val_top-5-accuracy: 0.9467 - lr: 0.0010\n",
      "Epoch 5/100\n",
      "48/48 [==============================] - 57s 1s/step - loss: 1.3201 - accuracy: 0.5187 - top-5-accuracy: 0.9396 - val_loss: 1.2272 - val_accuracy: 0.5620 - val_top-5-accuracy: 0.9558 - lr: 0.0010\n",
      "Epoch 6/100\n",
      "48/48 [==============================] - 55s 1s/step - loss: 1.2431 - accuracy: 0.5501 - top-5-accuracy: 0.9483 - val_loss: 1.1366 - val_accuracy: 0.5892 - val_top-5-accuracy: 0.9581 - lr: 0.0010\n",
      "Epoch 7/100\n",
      "48/48 [==============================] - 55s 1s/step - loss: 1.1809 - accuracy: 0.5748 - top-5-accuracy: 0.9546 - val_loss: 1.0421 - val_accuracy: 0.6182 - val_top-5-accuracy: 0.9660 - lr: 0.0010\n",
      "Epoch 8/100\n",
      "48/48 [==============================] - 55s 1s/step - loss: 1.1290 - accuracy: 0.5945 - top-5-accuracy: 0.9580 - val_loss: 1.0409 - val_accuracy: 0.6217 - val_top-5-accuracy: 0.9682 - lr: 0.0010\n",
      "Epoch 9/100\n",
      "48/48 [==============================] - 55s 1s/step - loss: 1.0953 - accuracy: 0.6064 - top-5-accuracy: 0.9620 - val_loss: 1.0318 - val_accuracy: 0.6277 - val_top-5-accuracy: 0.9669 - lr: 0.0010\n",
      "Epoch 10/100\n",
      "48/48 [==============================] - 57s 1s/step - loss: 1.0561 - accuracy: 0.6235 - top-5-accuracy: 0.9645 - val_loss: 1.0150 - val_accuracy: 0.6398 - val_top-5-accuracy: 0.9712 - lr: 0.0010\n",
      "Epoch 11/100\n",
      "48/48 [==============================] - 57s 1s/step - loss: 1.0214 - accuracy: 0.6346 - top-5-accuracy: 0.9675 - val_loss: 0.9857 - val_accuracy: 0.6521 - val_top-5-accuracy: 0.9701 - lr: 0.0010\n",
      "Epoch 12/100\n",
      "48/48 [==============================] - 56s 1s/step - loss: 0.9973 - accuracy: 0.6470 - top-5-accuracy: 0.9685 - val_loss: 0.8988 - val_accuracy: 0.6759 - val_top-5-accuracy: 0.9782 - lr: 0.0010\n",
      "Epoch 13/100\n",
      "48/48 [==============================] - 54s 1s/step - loss: 0.9730 - accuracy: 0.6554 - top-5-accuracy: 0.9710 - val_loss: 0.9766 - val_accuracy: 0.6530 - val_top-5-accuracy: 0.9731 - lr: 0.0010\n",
      "Epoch 14/100\n",
      "48/48 [==============================] - 60s 1s/step - loss: 0.9477 - accuracy: 0.6633 - top-5-accuracy: 0.9722 - val_loss: 0.9087 - val_accuracy: 0.6785 - val_top-5-accuracy: 0.9767 - lr: 0.0010\n",
      "Epoch 15/100\n",
      "48/48 [==============================] - 61s 1s/step - loss: 0.9314 - accuracy: 0.6720 - top-5-accuracy: 0.9736 - val_loss: 0.9101 - val_accuracy: 0.6807 - val_top-5-accuracy: 0.9754 - lr: 0.0010\n",
      "Epoch 16/100\n",
      "48/48 [==============================] - 55s 1s/step - loss: 0.9045 - accuracy: 0.6792 - top-5-accuracy: 0.9747 - val_loss: 0.8880 - val_accuracy: 0.6870 - val_top-5-accuracy: 0.9786 - lr: 0.0010\n",
      "Epoch 17/100\n",
      "48/48 [==============================] - 56s 1s/step - loss: 0.8903 - accuracy: 0.6839 - top-5-accuracy: 0.9751 - val_loss: 0.8614 - val_accuracy: 0.6917 - val_top-5-accuracy: 0.9796 - lr: 0.0010\n",
      "Epoch 18/100\n",
      "48/48 [==============================] - 56s 1s/step - loss: 0.8748 - accuracy: 0.6934 - top-5-accuracy: 0.9769 - val_loss: 0.8932 - val_accuracy: 0.6841 - val_top-5-accuracy: 0.9778 - lr: 0.0010\n",
      "Epoch 19/100\n",
      "48/48 [==============================] - 55s 1s/step - loss: 0.8476 - accuracy: 0.7007 - top-5-accuracy: 0.9783 - val_loss: 0.8612 - val_accuracy: 0.6977 - val_top-5-accuracy: 0.9803 - lr: 0.0010\n",
      "Epoch 20/100\n",
      "48/48 [==============================] - 55s 1s/step - loss: 0.8296 - accuracy: 0.7082 - top-5-accuracy: 0.9794 - val_loss: 0.8344 - val_accuracy: 0.7017 - val_top-5-accuracy: 0.9808 - lr: 0.0010\n",
      "Epoch 21/100\n",
      "48/48 [==============================] - 56s 1s/step - loss: 0.8250 - accuracy: 0.7080 - top-5-accuracy: 0.9798 - val_loss: 0.8620 - val_accuracy: 0.7008 - val_top-5-accuracy: 0.9810 - lr: 0.0010\n",
      "Epoch 22/100\n",
      "48/48 [==============================] - 57s 1s/step - loss: 0.7966 - accuracy: 0.7184 - top-5-accuracy: 0.9813 - val_loss: 0.7909 - val_accuracy: 0.7216 - val_top-5-accuracy: 0.9840 - lr: 0.0010\n",
      "Epoch 23/100\n",
      "48/48 [==============================] - 55s 1s/step - loss: 0.7952 - accuracy: 0.7202 - top-5-accuracy: 0.9816 - val_loss: 0.8265 - val_accuracy: 0.7166 - val_top-5-accuracy: 0.9807 - lr: 0.0010\n",
      "Epoch 24/100\n",
      "48/48 [==============================] - 55s 1s/step - loss: 0.7856 - accuracy: 0.7251 - top-5-accuracy: 0.9822 - val_loss: 0.8026 - val_accuracy: 0.7174 - val_top-5-accuracy: 0.9823 - lr: 0.0010\n",
      "Epoch 25/100\n",
      "48/48 [==============================] - 55s 1s/step - loss: 0.7666 - accuracy: 0.7297 - top-5-accuracy: 0.9824 - val_loss: 0.7702 - val_accuracy: 0.7284 - val_top-5-accuracy: 0.9829 - lr: 0.0010\n",
      "Epoch 26/100\n",
      "48/48 [==============================] - 56s 1s/step - loss: 0.7495 - accuracy: 0.7365 - top-5-accuracy: 0.9836 - val_loss: 0.8049 - val_accuracy: 0.7198 - val_top-5-accuracy: 0.9826 - lr: 0.0010\n",
      "Epoch 27/100\n",
      "48/48 [==============================] - 55s 1s/step - loss: 0.7449 - accuracy: 0.7372 - top-5-accuracy: 0.9835 - val_loss: 0.7446 - val_accuracy: 0.7385 - val_top-5-accuracy: 0.9838 - lr: 0.0010\n",
      "Epoch 28/100\n",
      "48/48 [==============================] - 55s 1s/step - loss: 0.7244 - accuracy: 0.7473 - top-5-accuracy: 0.9843 - val_loss: 0.7817 - val_accuracy: 0.7266 - val_top-5-accuracy: 0.9825 - lr: 0.0010\n",
      "Epoch 29/100\n",
      "48/48 [==============================] - 55s 1s/step - loss: 0.7261 - accuracy: 0.7453 - top-5-accuracy: 0.9845 - val_loss: 0.7923 - val_accuracy: 0.7294 - val_top-5-accuracy: 0.9835 - lr: 0.0010\n",
      "Epoch 30/100\n",
      "48/48 [==============================] - 56s 1s/step - loss: 0.6984 - accuracy: 0.7537 - top-5-accuracy: 0.9859 - val_loss: 0.7382 - val_accuracy: 0.7411 - val_top-5-accuracy: 0.9851 - lr: 0.0010\n",
      "Epoch 31/100\n",
      "48/48 [==============================] - 55s 1s/step - loss: 0.6878 - accuracy: 0.7589 - top-5-accuracy: 0.9857 - val_loss: 0.7859 - val_accuracy: 0.7312 - val_top-5-accuracy: 0.9826 - lr: 0.0010\n",
      "Epoch 32/100\n",
      "48/48 [==============================] - 55s 1s/step - loss: 0.7005 - accuracy: 0.7559 - top-5-accuracy: 0.9851 - val_loss: 0.7232 - val_accuracy: 0.7470 - val_top-5-accuracy: 0.9848 - lr: 0.0010\n",
      "Epoch 33/100\n",
      "48/48 [==============================] - 56s 1s/step - loss: 0.6716 - accuracy: 0.7646 - top-5-accuracy: 0.9863 - val_loss: 0.7584 - val_accuracy: 0.7370 - val_top-5-accuracy: 0.9816 - lr: 0.0010\n",
      "Epoch 34/100\n",
      "48/48 [==============================] - 55s 1s/step - loss: 0.6671 - accuracy: 0.7680 - top-5-accuracy: 0.9866 - val_loss: 0.7490 - val_accuracy: 0.7444 - val_top-5-accuracy: 0.9831 - lr: 0.0010\n",
      "Epoch 35/100\n",
      "48/48 [==============================] - 56s 1s/step - loss: 0.6569 - accuracy: 0.7692 - top-5-accuracy: 0.9873 - val_loss: 0.6894 - val_accuracy: 0.7578 - val_top-5-accuracy: 0.9857 - lr: 0.0010\n",
      "Epoch 36/100\n",
      "48/48 [==============================] - 56s 1s/step - loss: 0.6284 - accuracy: 0.7790 - top-5-accuracy: 0.9889 - val_loss: 0.7396 - val_accuracy: 0.7535 - val_top-5-accuracy: 0.9856 - lr: 9.0484e-04\n",
      "Epoch 37/100\n",
      "48/48 [==============================] - 55s 1s/step - loss: 0.6268 - accuracy: 0.7813 - top-5-accuracy: 0.9889 - val_loss: 0.6990 - val_accuracy: 0.7643 - val_top-5-accuracy: 0.9848 - lr: 8.1873e-04\n",
      "Epoch 38/100\n",
      "48/48 [==============================] - 55s 1s/step - loss: 0.6017 - accuracy: 0.7888 - top-5-accuracy: 0.9903 - val_loss: 0.6837 - val_accuracy: 0.7666 - val_top-5-accuracy: 0.9868 - lr: 7.4082e-04\n",
      "Epoch 39/100\n",
      "48/48 [==============================] - 55s 1s/step - loss: 0.5856 - accuracy: 0.7960 - top-5-accuracy: 0.9898 - val_loss: 0.6705 - val_accuracy: 0.7691 - val_top-5-accuracy: 0.9865 - lr: 6.7032e-04\n",
      "Epoch 40/100\n",
      "48/48 [==============================] - 55s 1s/step - loss: 0.5684 - accuracy: 0.8018 - top-5-accuracy: 0.9912 - val_loss: 0.6706 - val_accuracy: 0.7718 - val_top-5-accuracy: 0.9862 - lr: 6.0653e-04\n",
      "Epoch 41/100\n",
      "48/48 [==============================] - 54s 1s/step - loss: 0.5591 - accuracy: 0.8018 - top-5-accuracy: 0.9914 - val_loss: 0.6670 - val_accuracy: 0.7763 - val_top-5-accuracy: 0.9850 - lr: 5.4881e-04\n",
      "Epoch 42/100\n",
      "48/48 [==============================] - 56s 1s/step - loss: 0.5482 - accuracy: 0.8079 - top-5-accuracy: 0.9924 - val_loss: 0.6765 - val_accuracy: 0.7752 - val_top-5-accuracy: 0.9877 - lr: 4.9659e-04\n",
      "Epoch 43/100\n",
      "48/48 [==============================] - 55s 1s/step - loss: 0.5293 - accuracy: 0.8120 - top-5-accuracy: 0.9931 - val_loss: 0.6507 - val_accuracy: 0.7798 - val_top-5-accuracy: 0.9888 - lr: 4.4933e-04\n",
      "Epoch 44/100\n",
      "48/48 [==============================] - 61s 1s/step - loss: 0.5217 - accuracy: 0.8180 - top-5-accuracy: 0.9924 - val_loss: 0.6596 - val_accuracy: 0.7780 - val_top-5-accuracy: 0.9887 - lr: 4.0657e-04\n",
      "Epoch 45/100\n",
      "48/48 [==============================] - 55s 1s/step - loss: 0.5145 - accuracy: 0.8189 - top-5-accuracy: 0.9933 - val_loss: 0.6705 - val_accuracy: 0.7758 - val_top-5-accuracy: 0.9870 - lr: 3.6788e-04\n",
      "Epoch 46/100\n",
      "48/48 [==============================] - 55s 1s/step - loss: 0.4960 - accuracy: 0.8259 - top-5-accuracy: 0.9937 - val_loss: 0.6608 - val_accuracy: 0.7814 - val_top-5-accuracy: 0.9878 - lr: 3.3287e-04\n",
      "Epoch 47/100\n",
      "48/48 [==============================] - 55s 1s/step - loss: 0.4915 - accuracy: 0.8273 - top-5-accuracy: 0.9936 - val_loss: 0.6552 - val_accuracy: 0.7812 - val_top-5-accuracy: 0.9880 - lr: 3.0119e-04\n",
      "Epoch 48/100\n",
      "48/48 [==============================] - 56s 1s/step - loss: 0.4849 - accuracy: 0.8285 - top-5-accuracy: 0.9942 - val_loss: 0.6530 - val_accuracy: 0.7835 - val_top-5-accuracy: 0.9878 - lr: 2.7253e-04\n",
      "Epoch 49/100\n",
      "48/48 [==============================] - 56s 1s/step - loss: 0.4797 - accuracy: 0.8293 - top-5-accuracy: 0.9942 - val_loss: 0.6413 - val_accuracy: 0.7891 - val_top-5-accuracy: 0.9878 - lr: 2.4660e-04\n",
      "Epoch 50/100\n",
      "48/48 [==============================] - 55s 1s/step - loss: 0.4694 - accuracy: 0.8360 - top-5-accuracy: 0.9939 - val_loss: 0.6590 - val_accuracy: 0.7828 - val_top-5-accuracy: 0.9874 - lr: 2.2313e-04\n",
      "Epoch 51/100\n",
      "48/48 [==============================] - 55s 1s/step - loss: 0.4625 - accuracy: 0.8370 - top-5-accuracy: 0.9945 - val_loss: 0.6581 - val_accuracy: 0.7872 - val_top-5-accuracy: 0.9885 - lr: 2.0190e-04\n",
      "Epoch 52/100\n",
      "48/48 [==============================] - 55s 1s/step - loss: 0.4561 - accuracy: 0.8378 - top-5-accuracy: 0.9946 - val_loss: 0.6596 - val_accuracy: 0.7875 - val_top-5-accuracy: 0.9889 - lr: 1.8268e-04\n",
      "Epoch 53/100\n",
      "48/48 [==============================] - 56s 1s/step - loss: 0.4470 - accuracy: 0.8421 - top-5-accuracy: 0.9948 - val_loss: 0.6482 - val_accuracy: 0.7878 - val_top-5-accuracy: 0.9886 - lr: 1.6530e-04\n",
      "Epoch 54/100\n",
      "48/48 [==============================] - 54s 1s/step - loss: 0.4462 - accuracy: 0.8427 - top-5-accuracy: 0.9950 - val_loss: 0.6511 - val_accuracy: 0.7879 - val_top-5-accuracy: 0.9884 - lr: 1.4957e-04\n",
      "Epoch 55/100\n",
      "48/48 [==============================] - 56s 1s/step - loss: 0.4362 - accuracy: 0.8463 - top-5-accuracy: 0.9949 - val_loss: 0.6396 - val_accuracy: 0.7948 - val_top-5-accuracy: 0.9890 - lr: 1.3534e-04\n",
      "Epoch 56/100\n",
      "48/48 [==============================] - 55s 1s/step - loss: 0.4327 - accuracy: 0.8466 - top-5-accuracy: 0.9952 - val_loss: 0.6535 - val_accuracy: 0.7887 - val_top-5-accuracy: 0.9885 - lr: 1.2246e-04\n",
      "Epoch 57/100\n",
      "48/48 [==============================] - 54s 1s/step - loss: 0.4302 - accuracy: 0.8483 - top-5-accuracy: 0.9957 - val_loss: 0.6450 - val_accuracy: 0.7930 - val_top-5-accuracy: 0.9878 - lr: 1.1080e-04\n",
      "Epoch 58/100\n",
      "48/48 [==============================] - 56s 1s/step - loss: 0.4293 - accuracy: 0.8475 - top-5-accuracy: 0.9957 - val_loss: 0.6421 - val_accuracy: 0.7934 - val_top-5-accuracy: 0.9888 - lr: 1.0026e-04\n",
      "Epoch 59/100\n",
      "48/48 [==============================] - 54s 1s/step - loss: 0.4208 - accuracy: 0.8516 - top-5-accuracy: 0.9953 - val_loss: 0.6471 - val_accuracy: 0.7942 - val_top-5-accuracy: 0.9882 - lr: 9.0718e-05\n",
      "Epoch 60/100\n",
      "48/48 [==============================] - 56s 1s/step - loss: 0.4202 - accuracy: 0.8502 - top-5-accuracy: 0.9956 - val_loss: 0.6519 - val_accuracy: 0.7934 - val_top-5-accuracy: 0.9886 - lr: 8.2085e-05\n",
      "Epoch 61/100\n",
      "48/48 [==============================] - 56s 1s/step - loss: 0.4147 - accuracy: 0.8535 - top-5-accuracy: 0.9958 - val_loss: 0.6492 - val_accuracy: 0.7926 - val_top-5-accuracy: 0.9885 - lr: 7.4273e-05\n",
      "Epoch 62/100\n",
      "48/48 [==============================] - 55s 1s/step - loss: 0.4102 - accuracy: 0.8562 - top-5-accuracy: 0.9956 - val_loss: 0.6540 - val_accuracy: 0.7885 - val_top-5-accuracy: 0.9888 - lr: 6.7205e-05\n",
      "Epoch 63/100\n",
      "48/48 [==============================] - 56s 1s/step - loss: 0.4129 - accuracy: 0.8547 - top-5-accuracy: 0.9960 - val_loss: 0.6441 - val_accuracy: 0.7919 - val_top-5-accuracy: 0.9886 - lr: 6.0810e-05\n",
      "Epoch 64/100\n",
      "48/48 [==============================] - 55s 1s/step - loss: 0.4087 - accuracy: 0.8551 - top-5-accuracy: 0.9956 - val_loss: 0.6528 - val_accuracy: 0.7923 - val_top-5-accuracy: 0.9888 - lr: 5.5023e-05\n",
      "Epoch 65/100\n",
      "48/48 [==============================] - 55s 1s/step - loss: 0.4100 - accuracy: 0.8559 - top-5-accuracy: 0.9964 - val_loss: 0.6496 - val_accuracy: 0.7933 - val_top-5-accuracy: 0.9875 - lr: 4.9787e-05\n",
      "Epoch 66/100\n",
      "48/48 [==============================] - 55s 1s/step - loss: 0.4082 - accuracy: 0.8561 - top-5-accuracy: 0.9955 - val_loss: 0.6547 - val_accuracy: 0.7916 - val_top-5-accuracy: 0.9886 - lr: 4.5049e-05\n",
      "Epoch 67/100\n",
      "48/48 [==============================] - 56s 1s/step - loss: 0.4042 - accuracy: 0.8580 - top-5-accuracy: 0.9961 - val_loss: 0.6484 - val_accuracy: 0.7939 - val_top-5-accuracy: 0.9891 - lr: 4.0762e-05\n",
      "Epoch 68/100\n",
      "48/48 [==============================] - 56s 1s/step - loss: 0.4026 - accuracy: 0.8570 - top-5-accuracy: 0.9963 - val_loss: 0.6477 - val_accuracy: 0.7928 - val_top-5-accuracy: 0.9888 - lr: 3.6883e-05\n",
      "Epoch 69/100\n",
      "48/48 [==============================] - 55s 1s/step - loss: 0.4028 - accuracy: 0.8580 - top-5-accuracy: 0.9961 - val_loss: 0.6437 - val_accuracy: 0.7947 - val_top-5-accuracy: 0.9890 - lr: 3.3373e-05\n",
      "Epoch 70/100\n",
      "48/48 [==============================] - 55s 1s/step - loss: 0.4010 - accuracy: 0.8575 - top-5-accuracy: 0.9961 - val_loss: 0.6478 - val_accuracy: 0.7925 - val_top-5-accuracy: 0.9896 - lr: 3.0197e-05\n",
      "Epoch 71/100\n",
      "48/48 [==============================] - 56s 1s/step - loss: 0.4009 - accuracy: 0.8568 - top-5-accuracy: 0.9962 - val_loss: 0.6428 - val_accuracy: 0.7950 - val_top-5-accuracy: 0.9890 - lr: 2.7324e-05\n",
      "Epoch 72/100\n",
      "48/48 [==============================] - 56s 1s/step - loss: 0.3995 - accuracy: 0.8582 - top-5-accuracy: 0.9958 - val_loss: 0.6503 - val_accuracy: 0.7939 - val_top-5-accuracy: 0.9884 - lr: 2.4723e-05\n",
      "Epoch 73/100\n",
      "48/48 [==============================] - 55s 1s/step - loss: 0.3987 - accuracy: 0.8584 - top-5-accuracy: 0.9959 - val_loss: 0.6514 - val_accuracy: 0.7925 - val_top-5-accuracy: 0.9893 - lr: 2.2371e-05\n",
      "Epoch 74/100\n",
      "48/48 [==============================] - 55s 1s/step - loss: 0.4032 - accuracy: 0.8581 - top-5-accuracy: 0.9960 - val_loss: 0.6459 - val_accuracy: 0.7956 - val_top-5-accuracy: 0.9884 - lr: 2.0242e-05\n",
      "Epoch 75/100\n",
      "48/48 [==============================] - 55s 1s/step - loss: 0.3952 - accuracy: 0.8588 - top-5-accuracy: 0.9963 - val_loss: 0.6456 - val_accuracy: 0.7945 - val_top-5-accuracy: 0.9888 - lr: 1.8316e-05\n",
      "Epoch 76/100\n",
      "48/48 [==============================] - 55s 1s/step - loss: 0.3966 - accuracy: 0.8599 - top-5-accuracy: 0.9963 - val_loss: 0.6514 - val_accuracy: 0.7919 - val_top-5-accuracy: 0.9890 - lr: 1.6573e-05\n",
      "Epoch 77/100\n",
      "48/48 [==============================] - 55s 1s/step - loss: 0.3938 - accuracy: 0.8612 - top-5-accuracy: 0.9964 - val_loss: 0.6507 - val_accuracy: 0.7930 - val_top-5-accuracy: 0.9891 - lr: 1.4996e-05\n",
      "Epoch 78/100\n",
      "48/48 [==============================] - 55s 1s/step - loss: 0.3962 - accuracy: 0.8604 - top-5-accuracy: 0.9963 - val_loss: 0.6495 - val_accuracy: 0.7941 - val_top-5-accuracy: 0.9889 - lr: 1.3569e-05\n",
      "Epoch 79/100\n",
      "48/48 [==============================] - 55s 1s/step - loss: 0.3900 - accuracy: 0.8614 - top-5-accuracy: 0.9961 - val_loss: 0.6468 - val_accuracy: 0.7957 - val_top-5-accuracy: 0.9889 - lr: 1.2277e-05\n",
      "Epoch 80/100\n",
      "48/48 [==============================] - 55s 1s/step - loss: 0.3974 - accuracy: 0.8611 - top-5-accuracy: 0.9961 - val_loss: 0.6489 - val_accuracy: 0.7932 - val_top-5-accuracy: 0.9896 - lr: 1.1109e-05\n",
      "Epoch 81/100\n",
      "48/48 [==============================] - 56s 1s/step - loss: 0.3929 - accuracy: 0.8615 - top-5-accuracy: 0.9960 - val_loss: 0.6463 - val_accuracy: 0.7951 - val_top-5-accuracy: 0.9893 - lr: 1.0052e-05\n",
      "Epoch 82/100\n",
      "48/48 [==============================] - 56s 1s/step - loss: 0.3898 - accuracy: 0.8629 - top-5-accuracy: 0.9962 - val_loss: 0.6502 - val_accuracy: 0.7956 - val_top-5-accuracy: 0.9891 - lr: 9.0953e-06\n",
      "Epoch 83/100\n",
      "48/48 [==============================] - 55s 1s/step - loss: 0.3929 - accuracy: 0.8596 - top-5-accuracy: 0.9966 - val_loss: 0.6467 - val_accuracy: 0.7956 - val_top-5-accuracy: 0.9891 - lr: 8.2297e-06\n",
      "Epoch 84/100\n",
      "48/48 [==============================] - 55s 1s/step - loss: 0.3937 - accuracy: 0.8608 - top-5-accuracy: 0.9961 - val_loss: 0.6478 - val_accuracy: 0.7951 - val_top-5-accuracy: 0.9889 - lr: 7.4466e-06\n",
      "Epoch 85/100\n",
      "48/48 [==============================] - 55s 1s/step - loss: 0.3905 - accuracy: 0.8626 - top-5-accuracy: 0.9958 - val_loss: 0.6466 - val_accuracy: 0.7952 - val_top-5-accuracy: 0.9891 - lr: 6.7379e-06\n",
      "Epoch 86/100\n",
      "48/48 [==============================] - 56s 1s/step - loss: 0.3870 - accuracy: 0.8625 - top-5-accuracy: 0.9965 - val_loss: 0.6474 - val_accuracy: 0.7944 - val_top-5-accuracy: 0.9899 - lr: 6.0967e-06\n",
      "Epoch 87/100\n",
      "48/48 [==============================] - 55s 1s/step - loss: 0.3915 - accuracy: 0.8597 - top-5-accuracy: 0.9965 - val_loss: 0.6484 - val_accuracy: 0.7944 - val_top-5-accuracy: 0.9896 - lr: 5.5165e-06\n",
      "Epoch 88/100\n",
      "48/48 [==============================] - 55s 1s/step - loss: 0.3897 - accuracy: 0.8632 - top-5-accuracy: 0.9961 - val_loss: 0.6513 - val_accuracy: 0.7937 - val_top-5-accuracy: 0.9890 - lr: 4.9916e-06\n",
      "Epoch 89/100\n",
      "48/48 [==============================] - 54s 1s/step - loss: 0.3913 - accuracy: 0.8616 - top-5-accuracy: 0.9964 - val_loss: 0.6469 - val_accuracy: 0.7948 - val_top-5-accuracy: 0.9890 - lr: 4.5166e-06\n",
      "Epoch 90/100\n",
      "48/48 [==============================] - 55s 1s/step - loss: 0.3904 - accuracy: 0.8620 - top-5-accuracy: 0.9963 - val_loss: 0.6475 - val_accuracy: 0.7957 - val_top-5-accuracy: 0.9889 - lr: 4.0868e-06\n",
      "Epoch 91/100\n",
      "48/48 [==============================] - 55s 1s/step - loss: 0.3886 - accuracy: 0.8617 - top-5-accuracy: 0.9967 - val_loss: 0.6501 - val_accuracy: 0.7948 - val_top-5-accuracy: 0.9893 - lr: 3.6979e-06\n",
      "Epoch 92/100\n",
      "48/48 [==============================] - 56s 1s/step - loss: 0.3892 - accuracy: 0.8627 - top-5-accuracy: 0.9964 - val_loss: 0.6486 - val_accuracy: 0.7957 - val_top-5-accuracy: 0.9888 - lr: 3.3460e-06\n",
      "Epoch 93/100\n",
      "48/48 [==============================] - 55s 1s/step - loss: 0.3965 - accuracy: 0.8601 - top-5-accuracy: 0.9960 - val_loss: 0.6492 - val_accuracy: 0.7947 - val_top-5-accuracy: 0.9890 - lr: 3.0275e-06\n",
      "Epoch 94/100\n",
      "48/48 [==============================] - 55s 1s/step - loss: 0.3936 - accuracy: 0.8599 - top-5-accuracy: 0.9961 - val_loss: 0.6481 - val_accuracy: 0.7950 - val_top-5-accuracy: 0.9890 - lr: 2.7394e-06\n",
      "Epoch 95/100\n",
      "48/48 [==============================] - 54s 1s/step - loss: 0.3884 - accuracy: 0.8626 - top-5-accuracy: 0.9963 - val_loss: 0.6485 - val_accuracy: 0.7949 - val_top-5-accuracy: 0.9890 - lr: 2.4787e-06\n",
      "Epoch 96/100\n",
      "48/48 [==============================] - 55s 1s/step - loss: 0.3885 - accuracy: 0.8609 - top-5-accuracy: 0.9963 - val_loss: 0.6486 - val_accuracy: 0.7948 - val_top-5-accuracy: 0.9891 - lr: 2.2429e-06\n",
      "Epoch 97/100\n",
      "48/48 [==============================] - 63s 1s/step - loss: 0.3921 - accuracy: 0.8619 - top-5-accuracy: 0.9962 - val_loss: 0.6499 - val_accuracy: 0.7944 - val_top-5-accuracy: 0.9890 - lr: 2.0294e-06\n",
      "Epoch 98/100\n",
      "48/48 [==============================] - 55s 1s/step - loss: 0.3926 - accuracy: 0.8629 - top-5-accuracy: 0.9962 - val_loss: 0.6482 - val_accuracy: 0.7945 - val_top-5-accuracy: 0.9889 - lr: 1.8363e-06\n",
      "Epoch 99/100\n",
      "48/48 [==============================] - 59s 1s/step - loss: 0.3926 - accuracy: 0.8611 - top-5-accuracy: 0.9962 - val_loss: 0.6490 - val_accuracy: 0.7949 - val_top-5-accuracy: 0.9890 - lr: 1.6616e-06\n",
      "Epoch 100/100\n",
      "48/48 [==============================] - 63s 1s/step - loss: 0.3918 - accuracy: 0.8621 - top-5-accuracy: 0.9958 - val_loss: 0.6493 - val_accuracy: 0.7951 - val_top-5-accuracy: 0.9891 - lr: 1.5034e-06\n"
     ]
    }
   ],
   "source": [
    "history = vitClassifier.fit(trainingData , \n",
    "                            batch_size=1024 , \n",
    "                            validation_data=valData , \n",
    "                            epochs=100, \n",
    "                            callbacks=[callback]) #batch_size=1024\n"
   ]
  },
  {
   "cell_type": "code",
   "execution_count": 18,
   "metadata": {
    "colab": {
     "base_uri": "https://localhost:8080/",
     "height": 1000
    },
    "id": "50IikTpJaVEx",
    "outputId": "f216c0bf-f73e-46bc-d00e-b7b9e839377a"
   },
   "outputs": [
    {
     "data": {
      "image/png": "[encoded data removed]",
      "text/plain": [
       "<Figure size 720x720 with 1 Axes>"
      ]
     },
     "metadata": {
      "needs_background": "light"
     },
     "output_type": "display_data"
    },
    {
     "data": {
      "image/png": "[encoded data removed]",
      "text/plain": [
       "<Figure size 720x720 with 1 Axes>"
      ]
     },
     "metadata": {
      "needs_background": "light"
     },
     "output_type": "display_data"
    }
   ],
   "source": [
    "history_dict = history.history\n",
    "epochs = range(1, len(history_dict['accuracy'][:60]) + 1)\n",
    "\n",
    "plt.figure(figsize=(10,10))\n",
    "plt.plot(epochs, history_dict['loss'][:60], 'bo', label = 'Training loss')\n",
    "plt.plot(epochs, history_dict['val_loss'][:60], 'b', label = 'Validation loss')\n",
    "plt.title('CIFAR 10 loss')\n",
    "plt.xlabel('Epochs')\n",
    "plt.ylabel('Loss')\n",
    "plt.legend()\n",
    "plt.show()\n",
    "\n",
    "plt.figure(figsize=(10,10))\n",
    "plt.plot(epochs, history_dict['accuracy'][:60], 'bo', label = 'Training accuracy')\n",
    "plt.plot(epochs, history_dict['val_accuracy'][:60], 'b', label = 'Validation accuracy')\n",
    "plt.title('CIFAR 10 accuracy')\n",
    "plt.xlabel('Epochs')\n",
    "plt.ylabel('Accuracy')\n",
    "plt.legend()\n",
    "plt.show()\n"
   ]
  },
  {
   "cell_type": "code",
   "execution_count": 19,
   "metadata": {
    "colab": {
     "base_uri": "https://localhost:8080/"
    },
    "id": "szTrDGWJaVCs",
    "outputId": "1b95169f-6926-4db1-f151-4f72d8b23e77"
   },
   "outputs": [
    {
     "name": "stdout",
     "output_type": "stream",
     "text": [
      "9/9 [==============================] - 2s 230ms/step - loss: 0.6493 - accuracy: 0.7951 - top-5-accuracy: 0.9891\n",
      "Test accuracy: 79.51%\n",
      "Test top 5 accuracy: 98.91%\n"
     ]
    }
   ],
   "source": [
    "_, accuracy, top_5_accuracy = vitClassifier.evaluate(valData)\n",
    "print(f\"Test accuracy: {round(accuracy * 100, 2)}%\")\n",
    "print(f\"Test top 5 accuracy: {round(top_5_accuracy * 100, 2)}%\")\n"
   ]
  },
  {
   "cell_type": "code",
   "execution_count": 17,
   "metadata": {
    "id": "JuYysh0ys1m-"
   },
   "outputs": [],
   "source": [
    "def predict_sample(image_path):\n",
    "    labels = {0:\"airplane\",1:\"automobile\",2:\"bird\",\n",
    "              3:\"cat\", 4: \"deer\", 5: \"dog\", \n",
    "              6: \"frog\", 7: \"horse\", 8: \"ship\", 9: \"truck\"}\n",
    "    image=tf.keras.preprocessing.image.load_img(image_path, target_size=(72 , 72))\n",
    "    \n",
    "    imageArray=tf.keras.preprocessing.image.img_to_array(image)\n",
    "    imageArray = imageArray.reshape(1,72,72,3)\n",
    "    label_idx = np.argmax(vitClassifier.predict(imageArray))\n",
    "    print(labels[label_idx])\n",
    "    return image"
   ]
  },
  {
   "cell_type": "markdown",
   "metadata": {
    "id": "vyquXxAD2e8H"
   },
   "source": [
    "# CIFAR100"
   ]
  },
  {
   "cell_type": "code",
   "execution_count": 2,
   "metadata": {
    "colab": {
     "base_uri": "https://localhost:8080/"
    },
    "id": "4g2W2aW02UFF",
    "outputId": "eb52441e-8a3a-46a0-d44d-10d14268810b"
   },
   "outputs": [
    {
     "name": "stdout",
     "output_type": "stream",
     "text": [
      "x_train shape: (50000, 32, 32, 3) - y_train shape: (50000, 1)\n",
      "x_test shape: (10000, 32, 32, 3) - y_test shape: (10000, 1)\n"
     ]
    }
   ],
   "source": [
    "from tensorflow import keras\n",
    "(x_train, y_train), (x_test, y_test) = tf.keras.datasets.cifar100.load_data() \n",
    "\n",
    "print(f\"x_train shape: {x_train.shape} - y_train shape: {y_train.shape}\")\n",
    "print(f\"x_test shape: {x_test.shape} - y_test shape: {y_test.shape}\")"
   ]
  },
  {
   "cell_type": "code",
   "execution_count": 3,
   "metadata": {
    "id": "oWsaWmXo24uM"
   },
   "outputs": [],
   "source": [
    "image_size=72\n",
    "preprocessingModel = tf.keras.Sequential(\n",
    "    [\n",
    "        tf.keras.layers.experimental.preprocessing.Normalization(),\n",
    "        tf.keras.layers.experimental.preprocessing.Resizing(image_size, image_size),\n",
    "    ]\n",
    ")\n",
    "preprocessingModel.layers[0].adapt(x_train)\n",
    "\n",
    "augmentationModel = tf.keras.Sequential(\n",
    "    [\n",
    "        tf.keras.layers.experimental.preprocessing.RandomFlip(\"horizontal\"),\n",
    "        tf.keras.layers.experimental.preprocessing.RandomRotation(factor=0.02),\n",
    "        tf.keras.layers.experimental.preprocessing.RandomZoom(\n",
    "            height_factor=0.2, width_factor=0.2\n",
    "        ),\n",
    "    ]\n",
    ")"
   ]
  },
  {
   "cell_type": "code",
   "execution_count": 6,
   "metadata": {
    "colab": {
     "base_uri": "https://localhost:8080/"
    },
    "id": "NxVZ1YwJ3CEf",
    "outputId": "2f9a74fc-579a-409f-8c84-352af299f8a6"
   },
   "outputs": [
    {
     "name": "stdout",
     "output_type": "stream",
     "text": [
      "<PrefetchDataset element_spec=(TensorSpec(shape=(1024, 72, 72, 3), dtype=tf.float32, name=None), TensorSpec(shape=(1024, 1), dtype=tf.int64, name=None))>\n",
      "<PrefetchDataset element_spec=(TensorSpec(shape=(1024, 72, 72, 3), dtype=tf.float32, name=None), TensorSpec(shape=(1024, 1), dtype=tf.int64, name=None))>\n"
     ]
    }
   ],
   "source": [
    "trainingData = convert_to_dataset((x_train , y_train) , 1024 , shuffle=True , augment=True)\n",
    "valData = convert_to_dataset((x_test , y_test) , 1024 , shuffle=False , augment=False)\n",
    "\n",
    "print(trainingData)\n",
    "print(valData)"
   ]
  },
  {
   "cell_type": "code",
   "execution_count": 12,
   "metadata": {
    "id": "krNoKC3r3OPc"
   },
   "outputs": [],
   "source": [
    "vitClassifier = ViT(num_classes=100,\n",
    "                patch_size=6,\n",
    "                num_of_patches=(72//6)**2,\n",
    "                d_model=128,\n",
    "                heads=4,\n",
    "                num_layers=4,\n",
    "                mlp_rate=2,\n",
    "                dropout_rate=0.1\n",
    ")\n",
    "\n",
    "vitClassifier.compile(\n",
    "  optimizer=\"adam\",\n",
    "  loss=tf.keras.losses.SparseCategoricalCrossentropy(),\n",
    "  metrics=[\n",
    "      tf.keras.metrics.SparseCategoricalAccuracy(name=\"accuracy\"),\n",
    "      tf.keras.metrics.SparseTopKCategoricalAccuracy(5, name=\"top-5-accuracy\"),\n",
    "  ],\n",
    ")\n"
   ]
  },
  {
   "cell_type": "code",
   "execution_count": 13,
   "metadata": {
    "id": "w0ZJ7YTK3uBh"
   },
   "outputs": [],
   "source": [
    "def scheduler(epoch, lr):\n",
    "    if epoch < 35:\n",
    "        return lr\n",
    "    else:\n",
    "        if epoch // 2:\n",
    "            return lr * tf.math.exp(-0.1)\n",
    "        else:\n",
    "            return lr\n",
    "\n",
    "callback = tf.keras.callbacks.LearningRateScheduler(scheduler)"
   ]
  },
  {
   "cell_type": "code",
   "execution_count": 14,
   "metadata": {
    "colab": {
     "base_uri": "https://localhost:8080/"
    },
    "id": "4X7vS9_w3vhb",
    "outputId": "93de2a63-1ca9-4e32-fd21-71f7f52b0b96"
   },
   "outputs": [
    {
     "name": "stdout",
     "output_type": "stream",
     "text": [
      "Epoch 1/60\n",
      "48/48 [==============================] - 70s 1s/step - loss: 4.3322 - accuracy: 0.0475 - top-5-accuracy: 0.1690 - val_loss: 3.9660 - val_accuracy: 0.0871 - val_top-5-accuracy: 0.2793 - lr: 0.0010\n",
      "Epoch 2/60\n",
      "48/48 [==============================] - 59s 1s/step - loss: 3.8827 - accuracy: 0.0961 - top-5-accuracy: 0.2960 - val_loss: 3.5960 - val_accuracy: 0.1500 - val_top-5-accuracy: 0.3831 - lr: 0.0010\n",
      "Epoch 3/60\n",
      "48/48 [==============================] - 65s 1s/step - loss: 3.6039 - accuracy: 0.1391 - top-5-accuracy: 0.3824 - val_loss: 3.3149 - val_accuracy: 0.1933 - val_top-5-accuracy: 0.4696 - lr: 0.0010\n",
      "Epoch 4/60\n",
      "48/48 [==============================] - 62s 1s/step - loss: 3.3694 - accuracy: 0.1793 - top-5-accuracy: 0.4568 - val_loss: 3.0969 - val_accuracy: 0.2267 - val_top-5-accuracy: 0.5330 - lr: 0.0010\n",
      "Epoch 5/60\n",
      "48/48 [==============================] - 58s 1s/step - loss: 3.1818 - accuracy: 0.2132 - top-5-accuracy: 0.5060 - val_loss: 2.9511 - val_accuracy: 0.2598 - val_top-5-accuracy: 0.5630 - lr: 0.0010\n",
      "Epoch 6/60\n",
      "48/48 [==============================] - 61s 1s/step - loss: 3.0597 - accuracy: 0.2379 - top-5-accuracy: 0.5411 - val_loss: 2.8244 - val_accuracy: 0.2859 - val_top-5-accuracy: 0.5939 - lr: 0.0010\n",
      "Epoch 7/60\n",
      "48/48 [==============================] - 59s 1s/step - loss: 2.9275 - accuracy: 0.2595 - top-5-accuracy: 0.5729 - val_loss: 2.7237 - val_accuracy: 0.3015 - val_top-5-accuracy: 0.6227 - lr: 0.0010\n",
      "Epoch 8/60\n",
      "48/48 [==============================] - 59s 1s/step - loss: 2.8281 - accuracy: 0.2807 - top-5-accuracy: 0.5977 - val_loss: 2.6171 - val_accuracy: 0.3301 - val_top-5-accuracy: 0.6430 - lr: 0.0010\n",
      "Epoch 9/60\n",
      "48/48 [==============================] - 58s 1s/step - loss: 2.7496 - accuracy: 0.2959 - top-5-accuracy: 0.6163 - val_loss: 2.5449 - val_accuracy: 0.3360 - val_top-5-accuracy: 0.6586 - lr: 0.0010\n",
      "Epoch 10/60\n",
      "48/48 [==============================] - 59s 1s/step - loss: 2.6714 - accuracy: 0.3110 - top-5-accuracy: 0.6342 - val_loss: 2.4701 - val_accuracy: 0.3538 - val_top-5-accuracy: 0.6751 - lr: 0.0010\n",
      "Epoch 11/60\n",
      "48/48 [==============================] - 58s 1s/step - loss: 2.6057 - accuracy: 0.3267 - top-5-accuracy: 0.6484 - val_loss: 2.4605 - val_accuracy: 0.3558 - val_top-5-accuracy: 0.6800 - lr: 0.0010\n",
      "Epoch 12/60\n",
      "48/48 [==============================] - 58s 1s/step - loss: 2.5571 - accuracy: 0.3349 - top-5-accuracy: 0.6628 - val_loss: 2.3896 - val_accuracy: 0.3672 - val_top-5-accuracy: 0.6946 - lr: 0.0010\n",
      "Epoch 13/60\n",
      "48/48 [==============================] - 59s 1s/step - loss: 2.5003 - accuracy: 0.3484 - top-5-accuracy: 0.6729 - val_loss: 2.4134 - val_accuracy: 0.3729 - val_top-5-accuracy: 0.6857 - lr: 0.0010\n",
      "Epoch 14/60\n",
      "48/48 [==============================] - 58s 1s/step - loss: 2.4515 - accuracy: 0.3595 - top-5-accuracy: 0.6841 - val_loss: 2.3151 - val_accuracy: 0.3870 - val_top-5-accuracy: 0.7145 - lr: 0.0010\n",
      "Epoch 15/60\n",
      "48/48 [==============================] - 59s 1s/step - loss: 2.4050 - accuracy: 0.3669 - top-5-accuracy: 0.6943 - val_loss: 2.2772 - val_accuracy: 0.3926 - val_top-5-accuracy: 0.7164 - lr: 0.0010\n",
      "Epoch 16/60\n",
      "48/48 [==============================] - 57s 1s/step - loss: 2.3636 - accuracy: 0.3784 - top-5-accuracy: 0.7021 - val_loss: 2.2177 - val_accuracy: 0.4105 - val_top-5-accuracy: 0.7340 - lr: 0.0010\n",
      "Epoch 17/60\n",
      "48/48 [==============================] - 58s 1s/step - loss: 2.3286 - accuracy: 0.3833 - top-5-accuracy: 0.7107 - val_loss: 2.2305 - val_accuracy: 0.4089 - val_top-5-accuracy: 0.7329 - lr: 0.0010\n",
      "Epoch 18/60\n",
      "48/48 [==============================] - 57s 1s/step - loss: 2.2869 - accuracy: 0.3925 - top-5-accuracy: 0.7200 - val_loss: 2.1838 - val_accuracy: 0.4162 - val_top-5-accuracy: 0.7421 - lr: 0.0010\n",
      "Epoch 19/60\n",
      "48/48 [==============================] - 58s 1s/step - loss: 2.2619 - accuracy: 0.3983 - top-5-accuracy: 0.7251 - val_loss: 2.1492 - val_accuracy: 0.4222 - val_top-5-accuracy: 0.7463 - lr: 0.0010\n",
      "Epoch 20/60\n",
      "48/48 [==============================] - 60s 1s/step - loss: 2.2214 - accuracy: 0.4073 - top-5-accuracy: 0.7338 - val_loss: 2.1187 - val_accuracy: 0.4329 - val_top-5-accuracy: 0.7524 - lr: 0.0010\n",
      "Epoch 21/60\n",
      "48/48 [==============================] - 57s 1s/step - loss: 2.1838 - accuracy: 0.4121 - top-5-accuracy: 0.7436 - val_loss: 2.0999 - val_accuracy: 0.4397 - val_top-5-accuracy: 0.7561 - lr: 0.0010\n",
      "Epoch 22/60\n",
      "48/48 [==============================] - 58s 1s/step - loss: 2.1611 - accuracy: 0.4237 - top-5-accuracy: 0.7434 - val_loss: 2.0824 - val_accuracy: 0.4402 - val_top-5-accuracy: 0.7592 - lr: 0.0010\n",
      "Epoch 23/60\n",
      "48/48 [==============================] - 58s 1s/step - loss: 2.1129 - accuracy: 0.4331 - top-5-accuracy: 0.7535 - val_loss: 2.0649 - val_accuracy: 0.4434 - val_top-5-accuracy: 0.7673 - lr: 0.0010\n",
      "Epoch 24/60\n",
      "48/48 [==============================] - 57s 1s/step - loss: 2.0933 - accuracy: 0.4333 - top-5-accuracy: 0.7578 - val_loss: 2.0510 - val_accuracy: 0.4468 - val_top-5-accuracy: 0.7669 - lr: 0.0010\n",
      "Epoch 25/60\n",
      "48/48 [==============================] - 57s 1s/step - loss: 2.0610 - accuracy: 0.4411 - top-5-accuracy: 0.7645 - val_loss: 2.0406 - val_accuracy: 0.4513 - val_top-5-accuracy: 0.7690 - lr: 0.0010\n",
      "Epoch 26/60\n",
      "48/48 [==============================] - 57s 1s/step - loss: 2.0341 - accuracy: 0.4487 - top-5-accuracy: 0.7695 - val_loss: 2.0070 - val_accuracy: 0.4618 - val_top-5-accuracy: 0.7734 - lr: 0.0010\n",
      "Epoch 27/60\n",
      "48/48 [==============================] - 59s 1s/step - loss: 2.0138 - accuracy: 0.4513 - top-5-accuracy: 0.7753 - val_loss: 2.0141 - val_accuracy: 0.4587 - val_top-5-accuracy: 0.7742 - lr: 0.0010\n",
      "Epoch 28/60\n",
      "48/48 [==============================] - 59s 1s/step - loss: 2.0080 - accuracy: 0.4537 - top-5-accuracy: 0.7757 - val_loss: 1.9854 - val_accuracy: 0.4677 - val_top-5-accuracy: 0.7782 - lr: 0.0010\n",
      "Epoch 29/60\n",
      "48/48 [==============================] - 57s 1s/step - loss: 1.9598 - accuracy: 0.4648 - top-5-accuracy: 0.7871 - val_loss: 1.9653 - val_accuracy: 0.4697 - val_top-5-accuracy: 0.7820 - lr: 0.0010\n",
      "Epoch 30/60\n",
      "48/48 [==============================] - 59s 1s/step - loss: 1.9339 - accuracy: 0.4707 - top-5-accuracy: 0.7902 - val_loss: 1.9835 - val_accuracy: 0.4730 - val_top-5-accuracy: 0.7803 - lr: 0.0010\n",
      "Epoch 31/60\n",
      "48/48 [==============================] - 57s 1s/step - loss: 1.9107 - accuracy: 0.4770 - top-5-accuracy: 0.7940 - val_loss: 1.9507 - val_accuracy: 0.4760 - val_top-5-accuracy: 0.7887 - lr: 0.0010\n",
      "Epoch 32/60\n",
      "48/48 [==============================] - 57s 1s/step - loss: 1.8905 - accuracy: 0.4820 - top-5-accuracy: 0.7984 - val_loss: 1.9374 - val_accuracy: 0.4803 - val_top-5-accuracy: 0.7890 - lr: 0.0010\n",
      "Epoch 33/60\n",
      "48/48 [==============================] - 58s 1s/step - loss: 1.8611 - accuracy: 0.4886 - top-5-accuracy: 0.8021 - val_loss: 1.9294 - val_accuracy: 0.4793 - val_top-5-accuracy: 0.7923 - lr: 0.0010\n",
      "Epoch 34/60\n",
      "48/48 [==============================] - 58s 1s/step - loss: 1.8427 - accuracy: 0.4920 - top-5-accuracy: 0.8054 - val_loss: 1.9509 - val_accuracy: 0.4767 - val_top-5-accuracy: 0.7877 - lr: 0.0010\n",
      "Epoch 35/60\n",
      "48/48 [==============================] - 59s 1s/step - loss: 1.8200 - accuracy: 0.4967 - top-5-accuracy: 0.8096 - val_loss: 1.9067 - val_accuracy: 0.4877 - val_top-5-accuracy: 0.7941 - lr: 0.0010\n",
      "Epoch 36/60\n",
      "48/48 [==============================] - 59s 1s/step - loss: 1.7943 - accuracy: 0.5046 - top-5-accuracy: 0.8169 - val_loss: 1.9236 - val_accuracy: 0.4779 - val_top-5-accuracy: 0.7964 - lr: 9.0484e-04\n",
      "Epoch 37/60\n",
      "48/48 [==============================] - 58s 1s/step - loss: 1.7552 - accuracy: 0.5133 - top-5-accuracy: 0.8220 - val_loss: 1.8628 - val_accuracy: 0.4945 - val_top-5-accuracy: 0.8041 - lr: 8.1873e-04\n",
      "Epoch 38/60\n",
      "48/48 [==============================] - 59s 1s/step - loss: 1.7311 - accuracy: 0.5185 - top-5-accuracy: 0.8247 - val_loss: 1.8493 - val_accuracy: 0.4980 - val_top-5-accuracy: 0.8021 - lr: 7.4082e-04\n",
      "Epoch 39/60\n",
      "48/48 [==============================] - 58s 1s/step - loss: 1.6767 - accuracy: 0.5272 - top-5-accuracy: 0.8354 - val_loss: 1.8378 - val_accuracy: 0.5023 - val_top-5-accuracy: 0.8060 - lr: 6.7032e-04\n",
      "Epoch 40/60\n",
      "48/48 [==============================] - 59s 1s/step - loss: 1.6614 - accuracy: 0.5345 - top-5-accuracy: 0.8397 - val_loss: 1.8342 - val_accuracy: 0.5040 - val_top-5-accuracy: 0.8110 - lr: 6.0653e-04\n",
      "Epoch 41/60\n",
      "48/48 [==============================] - 59s 1s/step - loss: 1.6252 - accuracy: 0.5407 - top-5-accuracy: 0.8453 - val_loss: 1.8119 - val_accuracy: 0.5098 - val_top-5-accuracy: 0.8142 - lr: 5.4881e-04\n",
      "Epoch 42/60\n",
      "48/48 [==============================] - 59s 1s/step - loss: 1.6048 - accuracy: 0.5467 - top-5-accuracy: 0.8472 - val_loss: 1.8116 - val_accuracy: 0.5115 - val_top-5-accuracy: 0.8122 - lr: 4.9659e-04\n",
      "Epoch 43/60\n",
      "48/48 [==============================] - 57s 1s/step - loss: 1.5719 - accuracy: 0.5555 - top-5-accuracy: 0.8526 - val_loss: 1.8103 - val_accuracy: 0.5127 - val_top-5-accuracy: 0.8112 - lr: 4.4933e-04\n",
      "Epoch 44/60\n",
      "48/48 [==============================] - 59s 1s/step - loss: 1.5540 - accuracy: 0.5578 - top-5-accuracy: 0.8557 - val_loss: 1.8112 - val_accuracy: 0.5146 - val_top-5-accuracy: 0.8125 - lr: 4.0657e-04\n",
      "Epoch 45/60\n",
      "48/48 [==============================] - 58s 1s/step - loss: 1.5373 - accuracy: 0.5632 - top-5-accuracy: 0.8599 - val_loss: 1.7912 - val_accuracy: 0.5150 - val_top-5-accuracy: 0.8180 - lr: 3.6788e-04\n",
      "Epoch 46/60\n",
      "48/48 [==============================] - 57s 1s/step - loss: 1.5191 - accuracy: 0.5688 - top-5-accuracy: 0.8609 - val_loss: 1.8093 - val_accuracy: 0.5132 - val_top-5-accuracy: 0.8145 - lr: 3.3287e-04\n",
      "Epoch 47/60\n",
      "48/48 [==============================] - 57s 1s/step - loss: 1.5015 - accuracy: 0.5711 - top-5-accuracy: 0.8645 - val_loss: 1.8007 - val_accuracy: 0.5179 - val_top-5-accuracy: 0.8141 - lr: 3.0119e-04\n",
      "Epoch 48/60\n",
      "48/48 [==============================] - 57s 1s/step - loss: 1.4908 - accuracy: 0.5698 - top-5-accuracy: 0.8669 - val_loss: 1.7896 - val_accuracy: 0.5182 - val_top-5-accuracy: 0.8189 - lr: 2.7253e-04\n",
      "Epoch 49/60\n",
      "48/48 [==============================] - 58s 1s/step - loss: 1.4663 - accuracy: 0.5814 - top-5-accuracy: 0.8709 - val_loss: 1.7814 - val_accuracy: 0.5226 - val_top-5-accuracy: 0.8194 - lr: 2.4660e-04\n",
      "Epoch 50/60\n",
      "48/48 [==============================] - 57s 1s/step - loss: 1.4538 - accuracy: 0.5811 - top-5-accuracy: 0.8711 - val_loss: 1.7878 - val_accuracy: 0.5227 - val_top-5-accuracy: 0.8185 - lr: 2.2313e-04\n",
      "Epoch 51/60\n",
      "48/48 [==============================] - 57s 1s/step - loss: 1.4404 - accuracy: 0.5852 - top-5-accuracy: 0.8731 - val_loss: 1.7931 - val_accuracy: 0.5221 - val_top-5-accuracy: 0.8171 - lr: 2.0190e-04\n",
      "Epoch 52/60\n",
      "48/48 [==============================] - 58s 1s/step - loss: 1.4306 - accuracy: 0.5856 - top-5-accuracy: 0.8766 - val_loss: 1.7826 - val_accuracy: 0.5228 - val_top-5-accuracy: 0.8188 - lr: 1.8268e-04\n",
      "Epoch 53/60\n",
      "48/48 [==============================] - 59s 1s/step - loss: 1.4275 - accuracy: 0.5892 - top-5-accuracy: 0.8760 - val_loss: 1.7786 - val_accuracy: 0.5230 - val_top-5-accuracy: 0.8196 - lr: 1.6530e-04\n",
      "Epoch 54/60\n",
      "48/48 [==============================] - 60s 1s/step - loss: 1.4120 - accuracy: 0.5933 - top-5-accuracy: 0.8782 - val_loss: 1.7850 - val_accuracy: 0.5230 - val_top-5-accuracy: 0.8217 - lr: 1.4957e-04\n",
      "Epoch 55/60\n",
      "48/48 [==============================] - 58s 1s/step - loss: 1.4076 - accuracy: 0.5915 - top-5-accuracy: 0.8785 - val_loss: 1.7768 - val_accuracy: 0.5245 - val_top-5-accuracy: 0.8230 - lr: 1.3534e-04\n",
      "Epoch 56/60\n",
      "48/48 [==============================] - 58s 1s/step - loss: 1.3980 - accuracy: 0.5943 - top-5-accuracy: 0.8804 - val_loss: 1.7771 - val_accuracy: 0.5253 - val_top-5-accuracy: 0.8231 - lr: 1.2246e-04\n",
      "Epoch 57/60\n",
      "48/48 [==============================] - 58s 1s/step - loss: 1.3916 - accuracy: 0.5968 - top-5-accuracy: 0.8825 - val_loss: 1.7708 - val_accuracy: 0.5265 - val_top-5-accuracy: 0.8231 - lr: 1.1080e-04\n",
      "Epoch 58/60\n",
      "48/48 [==============================] - 57s 1s/step - loss: 1.3847 - accuracy: 0.5992 - top-5-accuracy: 0.8832 - val_loss: 1.7740 - val_accuracy: 0.5234 - val_top-5-accuracy: 0.8254 - lr: 1.0026e-04\n",
      "Epoch 59/60\n",
      "48/48 [==============================] - 58s 1s/step - loss: 1.3735 - accuracy: 0.6041 - top-5-accuracy: 0.8833 - val_loss: 1.7760 - val_accuracy: 0.5276 - val_top-5-accuracy: 0.8211 - lr: 9.0718e-05\n",
      "Epoch 60/60\n",
      "48/48 [==============================] - 57s 1s/step - loss: 1.3797 - accuracy: 0.6024 - top-5-accuracy: 0.8840 - val_loss: 1.7724 - val_accuracy: 0.5281 - val_top-5-accuracy: 0.8212 - lr: 8.2085e-05\n"
     ]
    }
   ],
   "source": [
    "history = vitClassifier.fit(trainingData , \n",
    "                            batch_size=1024 , \n",
    "                            validation_data=valData , \n",
    "                            epochs=60, \n",
    "                            callbacks=[callback]) #batch_size=1024\n"
   ]
  },
  {
   "cell_type": "code",
   "execution_count": 20,
   "metadata": {
    "colab": {
     "base_uri": "https://localhost:8080/",
     "height": 1000
    },
    "id": "Sap4S4L_35sw",
    "outputId": "0c5303d3-05cb-468f-b059-17a3ad632f79"
   },
   "outputs": [
    {
     "data": {
      "image/png": "[encoded data removed]",
      "text/plain": [
       "<Figure size 720x720 with 1 Axes>"
      ]
     },
     "metadata": {
      "needs_background": "light"
     },
     "output_type": "display_data"
    },
    {
     "data": {
      "image/png": "[encoded data removed]",
      "text/plain": [
       "<Figure size 720x720 with 1 Axes>"
      ]
     },
     "metadata": {
      "needs_background": "light"
     },
     "output_type": "display_data"
    }
   ],
   "source": [
    "history_dict = history.history\n",
    "epochs = range(1, len(history_dict['accuracy'][:60]) + 1)\n",
    "\n",
    "\n",
    "plt.figure(figsize=(10,10))\n",
    "plt.plot(epochs, history_dict['loss'][:60], 'bo', label = 'Training loss')\n",
    "plt.plot(epochs, history_dict['val_loss'][:60], 'b', label = 'Validation loss')\n",
    "plt.title('CIFAR 100 loss')\n",
    "plt.xlabel('Epochs')\n",
    "plt.ylabel('Loss')\n",
    "plt.legend()\n",
    "plt.show()\n",
    "\n",
    "plt.figure(figsize=(10,10))\n",
    "plt.plot(epochs, history_dict['accuracy'][:60], 'bo', label = 'Training accuracy')\n",
    "plt.plot(epochs, history_dict['val_accuracy'][:60], 'b', label = 'Validation accuracy')\n",
    "plt.title('CIFAR 100 accuracy')\n",
    "plt.xlabel('Epochs')\n",
    "plt.ylabel('Accuracy')\n",
    "plt.legend()\n",
    "plt.show()"
   ]
  },
  {
   "cell_type": "code",
   "execution_count": 19,
   "metadata": {
    "colab": {
     "base_uri": "https://localhost:8080/"
    },
    "id": "hyaxn0go5euc",
    "outputId": "c5a92b7a-0550-41f6-ef32-a6a8737ccaab"
   },
   "outputs": [
    {
     "name": "stdout",
     "output_type": "stream",
     "text": [
      "9/9 [==============================] - 3s 267ms/step - loss: 1.7724 - accuracy: 0.5281 - top-5-accuracy: 0.8212\n",
      "Test accuracy: 52.81%\n",
      "Test top 5 accuracy: 82.12%\n"
     ]
    }
   ],
   "source": [
    "_, accuracy, top_5_accuracy = vitClassifier.evaluate(valData)\n",
    "print(f\"Test accuracy: {round(accuracy * 100, 2)}%\")\n",
    "print(f\"Test top 5 accuracy: {round(top_5_accuracy * 100, 2)}%\")"
   ]
  },
  {
   "cell_type": "code",
   "execution_count": 315,
   "metadata": {
    "colab": {
     "base_uri": "https://localhost:8080/",
     "height": 107
    },
    "id": "dHWstiOzuFcR",
    "outputId": "e36ec459-8a6f-4ac4-c066-3636bf2aaa06"
   },
   "outputs": [
    {
     "name": "stdout",
     "output_type": "stream",
     "text": [
      "automobile\n"
     ]
    },
    {
     "data": {
      "image/png": "[encoded data removed]",
      "text/plain": [
       "<PIL.Image.Image image mode=RGB size=72x72 at 0x7F59765D8FD0>"
      ]
     },
     "execution_count": 315,
     "metadata": {},
     "output_type": "execute_result"
    }
   ],
   "source": [
    "predict_sample('./automobile.png')"
   ]
  },
  {
   "cell_type": "code",
   "execution_count": 316,
   "metadata": {
    "colab": {
     "base_uri": "https://localhost:8080/",
     "height": 107
    },
    "id": "YeDLoLbmaU-Q",
    "outputId": "2bed9b4c-8726-4431-b725-01b7787445ed"
   },
   "outputs": [
    {
     "name": "stdout",
     "output_type": "stream",
     "text": [
      "airplane\n"
     ]
    },
    {
     "data": {
      "image/png": "[encoded data removed]",
      "text/plain": [
       "<PIL.Image.Image image mode=RGB size=72x72 at 0x7F59762E6150>"
      ]
     },
     "execution_count": 316,
     "metadata": {},
     "output_type": "execute_result"
    }
   ],
   "source": [
    "predict_sample('./airplane.png')"
   ]
  },
  {
   "cell_type": "code",
   "execution_count": 320,
   "metadata": {
    "colab": {
     "base_uri": "https://localhost:8080/",
     "height": 107
    },
    "id": "aSqZ77pRaU8M",
    "outputId": "3427c314-f3fd-445c-c526-f90b4eac53d7"
   },
   "outputs": [
    {
     "name": "stdout",
     "output_type": "stream",
     "text": [
      "bird\n"
     ]
    },
    {
     "data": {
      "image/png": "[encoded data removed]",
      "text/plain": [
       "<PIL.Image.Image image mode=RGB size=72x72 at 0x7F59747C2450>"
      ]
     },
     "execution_count": 320,
     "metadata": {},
     "output_type": "execute_result"
    }
   ],
   "source": [
    "predict_sample('./horse.png')"
   ]
  }
 ],
 "metadata": {
  "accelerator": "GPU",
  "colab": {
   "collapsed_sections": [],
   "name": "Untitled14.ipynb",
   "provenance": []
  },
  "kernelspec": {
   "display_name": "Python 3 (ipykernel)",
   "language": "python",
   "name": "python3"
  },
  "language_info": {
   "codemirror_mode": {
    "name": "ipython",
    "version": 3
   },
   "file_extension": ".py",
   "mimetype": "text/x-python",
   "name": "python",
   "nbconvert_exporter": "python",
   "pygments_lexer": "ipython3",
   "version": "3.9.7"
  }
 },
 "nbformat": 4,
 "nbformat_minor": 1
}
