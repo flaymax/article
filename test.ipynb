{
  "nbformat": 4,
  "nbformat_minor": 0,
  "metadata": {
    "colab": {
      "provenance": [],
      "include_colab_link": true
    },
    "kernelspec": {
      "name": "python3",
      "display_name": "Python 3"
    },
    "accelerator": "GPU",
    "gpuClass": "standard"
  },
  "cells": [
    {
      "cell_type": "markdown",
      "metadata": {
        "id": "view-in-github",
        "colab_type": "text"
      },
      "source": [
        "<a href=\"https://colab.research.google.com/github/flaymax/article/blob/main/test.ipynb\" target=\"_parent\"><img src=\"https://colab.research.google.com/assets/colab-badge.svg\" alt=\"Open In Colab\"/></a>"
      ]
    },
    {
      "cell_type": "markdown",
      "metadata": {
        "id": "-cKMAYCLvK01"
      },
      "source": [
        "# Work with Transformers"
      ]
    },
    {
      "cell_type": "markdown",
      "metadata": {
        "id": "tLmCfm-i6NPg"
      },
      "source": [
        "##### Fine tune BERT on classification task"
      ]
    },
    {
      "cell_type": "code",
      "metadata": {
        "id": "aPqWNq50yTul",
        "outputId": "de4fb58d-6e57-47e2-fdb2-8fabebcd8925",
        "colab": {
          "base_uri": "https://localhost:8080/"
        }
      },
      "source": [
        "!pip install transformers\n",
        "# !pip install sentencepiece==0.1.94\n",
        "#!pip install 'lightning-flash[text]' --upgrade\n",
        "import random\n",
        "import torch\n",
        "import os\n",
        "import numpy as np\n",
        "import pandas as pd\n",
        "from tqdm import tqdm\n",
        "from torch.utils.data import TensorDataset, DataLoader, RandomSampler, SequentialSampler\n",
        "from transformers import AutoTokenizer, AutoModelForSequenceClassification, AdamW, AutoModelForSeq2SeqLM"
      ],
      "execution_count": 1,
      "outputs": [
        {
          "output_type": "stream",
          "name": "stdout",
          "text": [
            "Looking in indexes: https://pypi.org/simple, https://us-python.pkg.dev/colab-wheels/public/simple/\n",
            "Requirement already satisfied: transformers in /usr/local/lib/python3.8/dist-packages (4.25.1)\n",
            "Requirement already satisfied: tqdm>=4.27 in /usr/local/lib/python3.8/dist-packages (from transformers) (4.64.1)\n",
            "Requirement already satisfied: filelock in /usr/local/lib/python3.8/dist-packages (from transformers) (3.8.2)\n",
            "Requirement already satisfied: pyyaml>=5.1 in /usr/local/lib/python3.8/dist-packages (from transformers) (6.0)\n",
            "Requirement already satisfied: requests in /usr/local/lib/python3.8/dist-packages (from transformers) (2.23.0)\n",
            "Requirement already satisfied: packaging>=20.0 in /usr/local/lib/python3.8/dist-packages (from transformers) (21.3)\n",
            "Requirement already satisfied: regex!=2019.12.17 in /usr/local/lib/python3.8/dist-packages (from transformers) (2022.6.2)\n",
            "Requirement already satisfied: tokenizers!=0.11.3,<0.14,>=0.11.1 in /usr/local/lib/python3.8/dist-packages (from transformers) (0.13.2)\n",
            "Requirement already satisfied: huggingface-hub<1.0,>=0.10.0 in /usr/local/lib/python3.8/dist-packages (from transformers) (0.11.1)\n",
            "Requirement already satisfied: numpy>=1.17 in /usr/local/lib/python3.8/dist-packages (from transformers) (1.21.6)\n",
            "Requirement already satisfied: typing-extensions>=3.7.4.3 in /usr/local/lib/python3.8/dist-packages (from huggingface-hub<1.0,>=0.10.0->transformers) (4.4.0)\n",
            "Requirement already satisfied: pyparsing!=3.0.5,>=2.0.2 in /usr/local/lib/python3.8/dist-packages (from packaging>=20.0->transformers) (3.0.9)\n",
            "Requirement already satisfied: urllib3!=1.25.0,!=1.25.1,<1.26,>=1.21.1 in /usr/local/lib/python3.8/dist-packages (from requests->transformers) (1.24.3)\n",
            "Requirement already satisfied: chardet<4,>=3.0.2 in /usr/local/lib/python3.8/dist-packages (from requests->transformers) (3.0.4)\n",
            "Requirement already satisfied: certifi>=2017.4.17 in /usr/local/lib/python3.8/dist-packages (from requests->transformers) (2022.12.7)\n",
            "Requirement already satisfied: idna<3,>=2.5 in /usr/local/lib/python3.8/dist-packages (from requests->transformers) (2.10)\n"
          ]
        }
      ]
    },
    {
      "cell_type": "code",
      "source": [
        "df = pd.read_excel('Lemmatized_закупки_2020_исходная_выгрузка_340к.xlsx', sheet_name='Наим_без_дубликатов')\n",
        "columns_ = df.columns\n",
        "for column in columns_:\n",
        "    if column not in ['name', 'РИ']:\n",
        "        df.drop(column, axis=1, inplace=True)\n",
        "df.rename(columns = {'name' : 'data', 'РИ' : 'target'}, inplace=True)\n",
        "df"
      ],
      "metadata": {
        "colab": {
          "base_uri": "https://localhost:8080/",
          "height": 424
        },
        "id": "V3nUFBqKaH6w",
        "outputId": "769b1761-22ba-4c89-a94e-e49e656bd66e"
      },
      "execution_count": 2,
      "outputs": [
        {
          "output_type": "execute_result",
          "data": {
            "text/plain": [
              "                                                     data  target\n",
              "0       Электроэнергия,произведенная электростанциями ...       0\n",
              "1       Электроэнергия, произведенная гидроэлектростан...       0\n",
              "2       4010419: Электроэнергия, произведенная электро...       0\n",
              "3       Электроэнергия, произведенная электростанциями...       0\n",
              "4       Электроэнергия, произведенная дизельными элект...       0\n",
              "...                                                   ...     ...\n",
              "150959                                        Вибростенды       0\n",
              "150960                                       Вибростенды        0\n",
              "150961  Модернизация и дальнейшее развитие Единой терр...       0\n",
              "150962  Модернизация и развитие комплекса специализиро...       0\n",
              "150963  Создание космического комплекса радиолокационн...       0\n",
              "\n",
              "[150964 rows x 2 columns]"
            ],
            "text/html": [
              "\n",
              "  <div id=\"df-619b3ef3-3241-408c-ab4a-49153ff73470\">\n",
              "    <div class=\"colab-df-container\">\n",
              "      <div>\n",
              "<style scoped>\n",
              "    .dataframe tbody tr th:only-of-type {\n",
              "        vertical-align: middle;\n",
              "    }\n",
              "\n",
              "    .dataframe tbody tr th {\n",
              "        vertical-align: top;\n",
              "    }\n",
              "\n",
              "    .dataframe thead th {\n",
              "        text-align: right;\n",
              "    }\n",
              "</style>\n",
              "<table border=\"1\" class=\"dataframe\">\n",
              "  <thead>\n",
              "    <tr style=\"text-align: right;\">\n",
              "      <th></th>\n",
              "      <th>data</th>\n",
              "      <th>target</th>\n",
              "    </tr>\n",
              "  </thead>\n",
              "  <tbody>\n",
              "    <tr>\n",
              "      <th>0</th>\n",
              "      <td>Электроэнергия,произведенная электростанциями ...</td>\n",
              "      <td>0</td>\n",
              "    </tr>\n",
              "    <tr>\n",
              "      <th>1</th>\n",
              "      <td>Электроэнергия, произведенная гидроэлектростан...</td>\n",
              "      <td>0</td>\n",
              "    </tr>\n",
              "    <tr>\n",
              "      <th>2</th>\n",
              "      <td>4010419: Электроэнергия, произведенная электро...</td>\n",
              "      <td>0</td>\n",
              "    </tr>\n",
              "    <tr>\n",
              "      <th>3</th>\n",
              "      <td>Электроэнергия, произведенная электростанциями...</td>\n",
              "      <td>0</td>\n",
              "    </tr>\n",
              "    <tr>\n",
              "      <th>4</th>\n",
              "      <td>Электроэнергия, произведенная дизельными элект...</td>\n",
              "      <td>0</td>\n",
              "    </tr>\n",
              "    <tr>\n",
              "      <th>...</th>\n",
              "      <td>...</td>\n",
              "      <td>...</td>\n",
              "    </tr>\n",
              "    <tr>\n",
              "      <th>150959</th>\n",
              "      <td>Вибростенды</td>\n",
              "      <td>0</td>\n",
              "    </tr>\n",
              "    <tr>\n",
              "      <th>150960</th>\n",
              "      <td>Вибростенды</td>\n",
              "      <td>0</td>\n",
              "    </tr>\n",
              "    <tr>\n",
              "      <th>150961</th>\n",
              "      <td>Модернизация и дальнейшее развитие Единой терр...</td>\n",
              "      <td>0</td>\n",
              "    </tr>\n",
              "    <tr>\n",
              "      <th>150962</th>\n",
              "      <td>Модернизация и развитие комплекса специализиро...</td>\n",
              "      <td>0</td>\n",
              "    </tr>\n",
              "    <tr>\n",
              "      <th>150963</th>\n",
              "      <td>Создание космического комплекса радиолокационн...</td>\n",
              "      <td>0</td>\n",
              "    </tr>\n",
              "  </tbody>\n",
              "</table>\n",
              "<p>150964 rows × 2 columns</p>\n",
              "</div>\n",
              "      <button class=\"colab-df-convert\" onclick=\"convertToInteractive('df-619b3ef3-3241-408c-ab4a-49153ff73470')\"\n",
              "              title=\"Convert this dataframe to an interactive table.\"\n",
              "              style=\"display:none;\">\n",
              "        \n",
              "  <svg xmlns=\"http://www.w3.org/2000/svg\" height=\"24px\"viewBox=\"0 0 24 24\"\n",
              "       width=\"24px\">\n",
              "    <path d=\"M0 0h24v24H0V0z\" fill=\"none\"/>\n",
              "    <path d=\"M18.56 5.44l.94 2.06.94-2.06 2.06-.94-2.06-.94-.94-2.06-.94 2.06-2.06.94zm-11 1L8.5 8.5l.94-2.06 2.06-.94-2.06-.94L8.5 2.5l-.94 2.06-2.06.94zm10 10l.94 2.06.94-2.06 2.06-.94-2.06-.94-.94-2.06-.94 2.06-2.06.94z\"/><path d=\"M17.41 7.96l-1.37-1.37c-.4-.4-.92-.59-1.43-.59-.52 0-1.04.2-1.43.59L10.3 9.45l-7.72 7.72c-.78.78-.78 2.05 0 2.83L4 21.41c.39.39.9.59 1.41.59.51 0 1.02-.2 1.41-.59l7.78-7.78 2.81-2.81c.8-.78.8-2.07 0-2.86zM5.41 20L4 18.59l7.72-7.72 1.47 1.35L5.41 20z\"/>\n",
              "  </svg>\n",
              "      </button>\n",
              "      \n",
              "  <style>\n",
              "    .colab-df-container {\n",
              "      display:flex;\n",
              "      flex-wrap:wrap;\n",
              "      gap: 12px;\n",
              "    }\n",
              "\n",
              "    .colab-df-convert {\n",
              "      background-color: #E8F0FE;\n",
              "      border: none;\n",
              "      border-radius: 50%;\n",
              "      cursor: pointer;\n",
              "      display: none;\n",
              "      fill: #1967D2;\n",
              "      height: 32px;\n",
              "      padding: 0 0 0 0;\n",
              "      width: 32px;\n",
              "    }\n",
              "\n",
              "    .colab-df-convert:hover {\n",
              "      background-color: #E2EBFA;\n",
              "      box-shadow: 0px 1px 2px rgba(60, 64, 67, 0.3), 0px 1px 3px 1px rgba(60, 64, 67, 0.15);\n",
              "      fill: #174EA6;\n",
              "    }\n",
              "\n",
              "    [theme=dark] .colab-df-convert {\n",
              "      background-color: #3B4455;\n",
              "      fill: #D2E3FC;\n",
              "    }\n",
              "\n",
              "    [theme=dark] .colab-df-convert:hover {\n",
              "      background-color: #434B5C;\n",
              "      box-shadow: 0px 1px 3px 1px rgba(0, 0, 0, 0.15);\n",
              "      filter: drop-shadow(0px 1px 2px rgba(0, 0, 0, 0.3));\n",
              "      fill: #FFFFFF;\n",
              "    }\n",
              "  </style>\n",
              "\n",
              "      <script>\n",
              "        const buttonEl =\n",
              "          document.querySelector('#df-619b3ef3-3241-408c-ab4a-49153ff73470 button.colab-df-convert');\n",
              "        buttonEl.style.display =\n",
              "          google.colab.kernel.accessAllowed ? 'block' : 'none';\n",
              "\n",
              "        async function convertToInteractive(key) {\n",
              "          const element = document.querySelector('#df-619b3ef3-3241-408c-ab4a-49153ff73470');\n",
              "          const dataTable =\n",
              "            await google.colab.kernel.invokeFunction('convertToInteractive',\n",
              "                                                     [key], {});\n",
              "          if (!dataTable) return;\n",
              "\n",
              "          const docLinkHtml = 'Like what you see? Visit the ' +\n",
              "            '<a target=\"_blank\" href=https://colab.research.google.com/notebooks/data_table.ipynb>data table notebook</a>'\n",
              "            + ' to learn more about interactive tables.';\n",
              "          element.innerHTML = '';\n",
              "          dataTable['output_type'] = 'display_data';\n",
              "          await google.colab.output.renderOutput(dataTable, element);\n",
              "          const docLink = document.createElement('div');\n",
              "          docLink.innerHTML = docLinkHtml;\n",
              "          element.appendChild(docLink);\n",
              "        }\n",
              "      </script>\n",
              "    </div>\n",
              "  </div>\n",
              "  "
            ]
          },
          "metadata": {},
          "execution_count": 2
        }
      ]
    },
    {
      "cell_type": "code",
      "metadata": {
        "id": "MAxr0T7GH4Pe",
        "colab": {
          "base_uri": "https://localhost:8080/"
        },
        "outputId": "264efd60-9763-4747-a5c6-86c2580e5843"
      },
      "source": [
        "# Use a GPU if you have one available (Runtime -> Change runtime type -> GPU)\n",
        "device = torch.device(\"cuda\" if torch.cuda.is_available() else \"cpu\")\n",
        "\n",
        "# Set seeds for reproducibility\n",
        "random.seed(26)\n",
        "np.random.seed(26)\n",
        "torch.manual_seed(26)\n",
        "\n",
        "#tokenizer = AutoTokenizer.from_pretrained(\"DeepPavlov/rubert-base-cased\")\n",
        "#model = AutoModelForSequenceClassification.from_pretrained(\"DeepPavlov/rubert-base-cased\")\n",
        "#model.to(device)\n",
        "\n",
        "#learning_rate = 1e-5\n",
        "#optimizer = AdamW(model.parameters(), lr=learning_rate, eps=1e-8)"
      ],
      "execution_count": 3,
      "outputs": [
        {
          "output_type": "execute_result",
          "data": {
            "text/plain": [
              "<torch._C.Generator at 0x7fae6e01f050>"
            ]
          },
          "metadata": {},
          "execution_count": 3
        }
      ]
    },
    {
      "cell_type": "markdown",
      "source": [],
      "metadata": {
        "id": "U3xymlL7l6bz"
      }
    },
    {
      "cell_type": "code",
      "source": [
        "from sklearn.model_selection import train_test_split\n"
      ],
      "metadata": {
        "id": "UrxrWvqEcdW4"
      },
      "execution_count": 4,
      "outputs": []
    },
    {
      "cell_type": "code",
      "source": [
        "labels=set(df['target'])\n",
        "id2label = {i:label for i,label in enumerate(labels) if label != None}\n",
        "label2id = {label:i for i,label in enumerate(labels) if label != None}"
      ],
      "metadata": {
        "id": "lxi_zd3en6uu"
      },
      "execution_count": 5,
      "outputs": []
    },
    {
      "cell_type": "code",
      "source": [
        "X = df['data']\n",
        "y = df['target']"
      ],
      "metadata": {
        "id": "BPgTIKVmtTrL"
      },
      "execution_count": 6,
      "outputs": []
    },
    {
      "cell_type": "code",
      "source": [
        "import re\n",
        "import string\n",
        "\n",
        "def preprocessing_text(txt):\n",
        "    txt = txt.lower()\n",
        "    txt = re.sub(r'\\n',' ', txt)\n",
        "    txt = re.sub('[%s]' % re.escape(string.punctuation), '', txt)\n",
        "    txt = re.sub(r'\\s+', ' ', txt, flags=re.I)\n",
        "    txt = re.sub(r'\\W', ' ', txt)\n",
        "    return txt"
      ],
      "metadata": {
        "id": "NT6OHsTctToU"
      },
      "execution_count": 7,
      "outputs": []
    },
    {
      "cell_type": "code",
      "source": [
        "X = X.apply(lambda x: preprocessing_text(x))\n"
      ],
      "metadata": {
        "id": "WhZemCI6tTlt"
      },
      "execution_count": 8,
      "outputs": []
    },
    {
      "cell_type": "code",
      "source": [
        "X_train, X_rem, y_train, y_rem = train_test_split(X, y, train_size=0.8, \n",
        "                                                      random_state=42)"
      ],
      "metadata": {
        "id": "jy5T6u6otTi2"
      },
      "execution_count": 9,
      "outputs": []
    },
    {
      "cell_type": "code",
      "source": [
        "X_valid, X_test, y_valid, y_test = train_test_split(X_rem,y_rem, test_size=0.5)\n"
      ],
      "metadata": {
        "id": "b8YkzkkgN0vx"
      },
      "execution_count": 10,
      "outputs": []
    },
    {
      "cell_type": "code",
      "source": [
        "print(X_train.shape), print(y_train.shape)\n",
        "print(X_valid.shape), print(y_valid.shape)\n",
        "print(X_test.shape), print(y_test.shape)"
      ],
      "metadata": {
        "colab": {
          "base_uri": "https://localhost:8080/"
        },
        "id": "JUaZjXA3N_bK",
        "outputId": "af2b8853-d53e-41ea-b69b-7b4c16254728"
      },
      "execution_count": 11,
      "outputs": [
        {
          "output_type": "stream",
          "name": "stdout",
          "text": [
            "(120771,)\n",
            "(120771,)\n",
            "(15096,)\n",
            "(15096,)\n",
            "(15097,)\n",
            "(15097,)\n"
          ]
        },
        {
          "output_type": "execute_result",
          "data": {
            "text/plain": [
              "(None, None)"
            ]
          },
          "metadata": {},
          "execution_count": 11
        }
      ]
    },
    {
      "cell_type": "code",
      "source": [
        "y_test.value_counts()"
      ],
      "metadata": {
        "colab": {
          "base_uri": "https://localhost:8080/"
        },
        "id": "qPyh5OlOOg2i",
        "outputId": "a59681dd-79b6-4415-9efa-932b070a9ffd"
      },
      "execution_count": 12,
      "outputs": [
        {
          "output_type": "execute_result",
          "data": {
            "text/plain": [
              "0    10715\n",
              "1     4382\n",
              "Name: target, dtype: int64"
            ]
          },
          "metadata": {},
          "execution_count": 12
        }
      ]
    },
    {
      "cell_type": "code",
      "source": [
        "y_valid.value_counts()"
      ],
      "metadata": {
        "colab": {
          "base_uri": "https://localhost:8080/"
        },
        "id": "gL-5qL6iOwyX",
        "outputId": "79610b8d-0248-43f1-92a0-cded7955e8d7"
      },
      "execution_count": 13,
      "outputs": [
        {
          "output_type": "execute_result",
          "data": {
            "text/plain": [
              "0    10810\n",
              "1     4286\n",
              "Name: target, dtype: int64"
            ]
          },
          "metadata": {},
          "execution_count": 13
        }
      ]
    },
    {
      "cell_type": "code",
      "source": [
        "y_train.value_counts()"
      ],
      "metadata": {
        "colab": {
          "base_uri": "https://localhost:8080/"
        },
        "id": "DwK7W6D0O0FU",
        "outputId": "725aa499-3dcb-4092-e857-8b843178ac79"
      },
      "execution_count": 14,
      "outputs": [
        {
          "output_type": "execute_result",
          "data": {
            "text/plain": [
              "0    86200\n",
              "1    34571\n",
              "Name: target, dtype: int64"
            ]
          },
          "metadata": {},
          "execution_count": 14
        }
      ]
    },
    {
      "cell_type": "code",
      "source": [
        "from transformers import AutoTokenizer, AutoModelForSequenceClassification\n"
      ],
      "metadata": {
        "id": "e42Afpd0tTcn"
      },
      "execution_count": 15,
      "outputs": []
    },
    {
      "cell_type": "code",
      "source": [
        "MODEL_NAME = 'DeepPavlov/rubert-base-cased-sentence'\n"
      ],
      "metadata": {
        "id": "rPaeCc1ptyJw"
      },
      "execution_count": 16,
      "outputs": []
    },
    {
      "cell_type": "code",
      "source": [
        "tokenizer = AutoTokenizer.from_pretrained('DeepPavlov/rubert-base-cased-sentence')\n"
      ],
      "metadata": {
        "id": "y49Vi4B0tyHJ"
      },
      "execution_count": 17,
      "outputs": []
    },
    {
      "cell_type": "code",
      "source": [
        "def make_dataset(X, y):\n",
        "    labels = [label2id[label] for label in y]\n",
        "    texts = [tokenizer(text,padding='max_length', max_length = 100, truncation=True) for text in X]\n",
        "    \n",
        "    result = []\n",
        "    for idx,(text,label) in enumerate(zip(texts,labels)):\n",
        "        result.append({\"input_ids\" : text['input_ids'], 'attention_mask' : text['attention_mask'], \"label\" : label})\n",
        "    return result"
      ],
      "metadata": {
        "id": "D3LZOyAityEj"
      },
      "execution_count": 18,
      "outputs": []
    },
    {
      "cell_type": "code",
      "source": [
        "train_dataset = make_dataset(X_train, y_train)\n"
      ],
      "metadata": {
        "id": "bEhfk94ctyB9"
      },
      "execution_count": 19,
      "outputs": []
    },
    {
      "cell_type": "code",
      "source": [
        "valid_dataset = make_dataset(X_valid, y_valid)\n"
      ],
      "metadata": {
        "id": "8Kml5JZvtx_V"
      },
      "execution_count": 20,
      "outputs": []
    },
    {
      "cell_type": "code",
      "source": [
        "from transformers import TrainingArguments, Trainer\n"
      ],
      "metadata": {
        "id": "nF-yxVx9tx8_"
      },
      "execution_count": 21,
      "outputs": []
    },
    {
      "cell_type": "code",
      "source": [
        "model = AutoModelForSequenceClassification.from_pretrained(MODEL_NAME, label2id=label2id,id2label=id2label,num_labels=len(labels))\n",
        "model.to(device)\n"
      ],
      "metadata": {
        "colab": {
          "base_uri": "https://localhost:8080/"
        },
        "id": "3PtM7MGutx6J",
        "outputId": "a674fe92-c280-4668-9e5c-bcd7276727bb"
      },
      "execution_count": 22,
      "outputs": [
        {
          "output_type": "stream",
          "name": "stderr",
          "text": [
            "Some weights of BertForSequenceClassification were not initialized from the model checkpoint at DeepPavlov/rubert-base-cased-sentence and are newly initialized: ['classifier.weight', 'classifier.bias']\n",
            "You should probably TRAIN this model on a down-stream task to be able to use it for predictions and inference.\n"
          ]
        },
        {
          "output_type": "execute_result",
          "data": {
            "text/plain": [
              "BertForSequenceClassification(\n",
              "  (bert): BertModel(\n",
              "    (embeddings): BertEmbeddings(\n",
              "      (word_embeddings): Embedding(119547, 768, padding_idx=0)\n",
              "      (position_embeddings): Embedding(512, 768)\n",
              "      (token_type_embeddings): Embedding(2, 768)\n",
              "      (LayerNorm): LayerNorm((768,), eps=1e-12, elementwise_affine=True)\n",
              "      (dropout): Dropout(p=0.1, inplace=False)\n",
              "    )\n",
              "    (encoder): BertEncoder(\n",
              "      (layer): ModuleList(\n",
              "        (0): BertLayer(\n",
              "          (attention): BertAttention(\n",
              "            (self): BertSelfAttention(\n",
              "              (query): Linear(in_features=768, out_features=768, bias=True)\n",
              "              (key): Linear(in_features=768, out_features=768, bias=True)\n",
              "              (value): Linear(in_features=768, out_features=768, bias=True)\n",
              "              (dropout): Dropout(p=0.1, inplace=False)\n",
              "            )\n",
              "            (output): BertSelfOutput(\n",
              "              (dense): Linear(in_features=768, out_features=768, bias=True)\n",
              "              (LayerNorm): LayerNorm((768,), eps=1e-12, elementwise_affine=True)\n",
              "              (dropout): Dropout(p=0.1, inplace=False)\n",
              "            )\n",
              "          )\n",
              "          (intermediate): BertIntermediate(\n",
              "            (dense): Linear(in_features=768, out_features=3072, bias=True)\n",
              "            (intermediate_act_fn): GELUActivation()\n",
              "          )\n",
              "          (output): BertOutput(\n",
              "            (dense): Linear(in_features=3072, out_features=768, bias=True)\n",
              "            (LayerNorm): LayerNorm((768,), eps=1e-12, elementwise_affine=True)\n",
              "            (dropout): Dropout(p=0.1, inplace=False)\n",
              "          )\n",
              "        )\n",
              "        (1): BertLayer(\n",
              "          (attention): BertAttention(\n",
              "            (self): BertSelfAttention(\n",
              "              (query): Linear(in_features=768, out_features=768, bias=True)\n",
              "              (key): Linear(in_features=768, out_features=768, bias=True)\n",
              "              (value): Linear(in_features=768, out_features=768, bias=True)\n",
              "              (dropout): Dropout(p=0.1, inplace=False)\n",
              "            )\n",
              "            (output): BertSelfOutput(\n",
              "              (dense): Linear(in_features=768, out_features=768, bias=True)\n",
              "              (LayerNorm): LayerNorm((768,), eps=1e-12, elementwise_affine=True)\n",
              "              (dropout): Dropout(p=0.1, inplace=False)\n",
              "            )\n",
              "          )\n",
              "          (intermediate): BertIntermediate(\n",
              "            (dense): Linear(in_features=768, out_features=3072, bias=True)\n",
              "            (intermediate_act_fn): GELUActivation()\n",
              "          )\n",
              "          (output): BertOutput(\n",
              "            (dense): Linear(in_features=3072, out_features=768, bias=True)\n",
              "            (LayerNorm): LayerNorm((768,), eps=1e-12, elementwise_affine=True)\n",
              "            (dropout): Dropout(p=0.1, inplace=False)\n",
              "          )\n",
              "        )\n",
              "        (2): BertLayer(\n",
              "          (attention): BertAttention(\n",
              "            (self): BertSelfAttention(\n",
              "              (query): Linear(in_features=768, out_features=768, bias=True)\n",
              "              (key): Linear(in_features=768, out_features=768, bias=True)\n",
              "              (value): Linear(in_features=768, out_features=768, bias=True)\n",
              "              (dropout): Dropout(p=0.1, inplace=False)\n",
              "            )\n",
              "            (output): BertSelfOutput(\n",
              "              (dense): Linear(in_features=768, out_features=768, bias=True)\n",
              "              (LayerNorm): LayerNorm((768,), eps=1e-12, elementwise_affine=True)\n",
              "              (dropout): Dropout(p=0.1, inplace=False)\n",
              "            )\n",
              "          )\n",
              "          (intermediate): BertIntermediate(\n",
              "            (dense): Linear(in_features=768, out_features=3072, bias=True)\n",
              "            (intermediate_act_fn): GELUActivation()\n",
              "          )\n",
              "          (output): BertOutput(\n",
              "            (dense): Linear(in_features=3072, out_features=768, bias=True)\n",
              "            (LayerNorm): LayerNorm((768,), eps=1e-12, elementwise_affine=True)\n",
              "            (dropout): Dropout(p=0.1, inplace=False)\n",
              "          )\n",
              "        )\n",
              "        (3): BertLayer(\n",
              "          (attention): BertAttention(\n",
              "            (self): BertSelfAttention(\n",
              "              (query): Linear(in_features=768, out_features=768, bias=True)\n",
              "              (key): Linear(in_features=768, out_features=768, bias=True)\n",
              "              (value): Linear(in_features=768, out_features=768, bias=True)\n",
              "              (dropout): Dropout(p=0.1, inplace=False)\n",
              "            )\n",
              "            (output): BertSelfOutput(\n",
              "              (dense): Linear(in_features=768, out_features=768, bias=True)\n",
              "              (LayerNorm): LayerNorm((768,), eps=1e-12, elementwise_affine=True)\n",
              "              (dropout): Dropout(p=0.1, inplace=False)\n",
              "            )\n",
              "          )\n",
              "          (intermediate): BertIntermediate(\n",
              "            (dense): Linear(in_features=768, out_features=3072, bias=True)\n",
              "            (intermediate_act_fn): GELUActivation()\n",
              "          )\n",
              "          (output): BertOutput(\n",
              "            (dense): Linear(in_features=3072, out_features=768, bias=True)\n",
              "            (LayerNorm): LayerNorm((768,), eps=1e-12, elementwise_affine=True)\n",
              "            (dropout): Dropout(p=0.1, inplace=False)\n",
              "          )\n",
              "        )\n",
              "        (4): BertLayer(\n",
              "          (attention): BertAttention(\n",
              "            (self): BertSelfAttention(\n",
              "              (query): Linear(in_features=768, out_features=768, bias=True)\n",
              "              (key): Linear(in_features=768, out_features=768, bias=True)\n",
              "              (value): Linear(in_features=768, out_features=768, bias=True)\n",
              "              (dropout): Dropout(p=0.1, inplace=False)\n",
              "            )\n",
              "            (output): BertSelfOutput(\n",
              "              (dense): Linear(in_features=768, out_features=768, bias=True)\n",
              "              (LayerNorm): LayerNorm((768,), eps=1e-12, elementwise_affine=True)\n",
              "              (dropout): Dropout(p=0.1, inplace=False)\n",
              "            )\n",
              "          )\n",
              "          (intermediate): BertIntermediate(\n",
              "            (dense): Linear(in_features=768, out_features=3072, bias=True)\n",
              "            (intermediate_act_fn): GELUActivation()\n",
              "          )\n",
              "          (output): BertOutput(\n",
              "            (dense): Linear(in_features=3072, out_features=768, bias=True)\n",
              "            (LayerNorm): LayerNorm((768,), eps=1e-12, elementwise_affine=True)\n",
              "            (dropout): Dropout(p=0.1, inplace=False)\n",
              "          )\n",
              "        )\n",
              "        (5): BertLayer(\n",
              "          (attention): BertAttention(\n",
              "            (self): BertSelfAttention(\n",
              "              (query): Linear(in_features=768, out_features=768, bias=True)\n",
              "              (key): Linear(in_features=768, out_features=768, bias=True)\n",
              "              (value): Linear(in_features=768, out_features=768, bias=True)\n",
              "              (dropout): Dropout(p=0.1, inplace=False)\n",
              "            )\n",
              "            (output): BertSelfOutput(\n",
              "              (dense): Linear(in_features=768, out_features=768, bias=True)\n",
              "              (LayerNorm): LayerNorm((768,), eps=1e-12, elementwise_affine=True)\n",
              "              (dropout): Dropout(p=0.1, inplace=False)\n",
              "            )\n",
              "          )\n",
              "          (intermediate): BertIntermediate(\n",
              "            (dense): Linear(in_features=768, out_features=3072, bias=True)\n",
              "            (intermediate_act_fn): GELUActivation()\n",
              "          )\n",
              "          (output): BertOutput(\n",
              "            (dense): Linear(in_features=3072, out_features=768, bias=True)\n",
              "            (LayerNorm): LayerNorm((768,), eps=1e-12, elementwise_affine=True)\n",
              "            (dropout): Dropout(p=0.1, inplace=False)\n",
              "          )\n",
              "        )\n",
              "        (6): BertLayer(\n",
              "          (attention): BertAttention(\n",
              "            (self): BertSelfAttention(\n",
              "              (query): Linear(in_features=768, out_features=768, bias=True)\n",
              "              (key): Linear(in_features=768, out_features=768, bias=True)\n",
              "              (value): Linear(in_features=768, out_features=768, bias=True)\n",
              "              (dropout): Dropout(p=0.1, inplace=False)\n",
              "            )\n",
              "            (output): BertSelfOutput(\n",
              "              (dense): Linear(in_features=768, out_features=768, bias=True)\n",
              "              (LayerNorm): LayerNorm((768,), eps=1e-12, elementwise_affine=True)\n",
              "              (dropout): Dropout(p=0.1, inplace=False)\n",
              "            )\n",
              "          )\n",
              "          (intermediate): BertIntermediate(\n",
              "            (dense): Linear(in_features=768, out_features=3072, bias=True)\n",
              "            (intermediate_act_fn): GELUActivation()\n",
              "          )\n",
              "          (output): BertOutput(\n",
              "            (dense): Linear(in_features=3072, out_features=768, bias=True)\n",
              "            (LayerNorm): LayerNorm((768,), eps=1e-12, elementwise_affine=True)\n",
              "            (dropout): Dropout(p=0.1, inplace=False)\n",
              "          )\n",
              "        )\n",
              "        (7): BertLayer(\n",
              "          (attention): BertAttention(\n",
              "            (self): BertSelfAttention(\n",
              "              (query): Linear(in_features=768, out_features=768, bias=True)\n",
              "              (key): Linear(in_features=768, out_features=768, bias=True)\n",
              "              (value): Linear(in_features=768, out_features=768, bias=True)\n",
              "              (dropout): Dropout(p=0.1, inplace=False)\n",
              "            )\n",
              "            (output): BertSelfOutput(\n",
              "              (dense): Linear(in_features=768, out_features=768, bias=True)\n",
              "              (LayerNorm): LayerNorm((768,), eps=1e-12, elementwise_affine=True)\n",
              "              (dropout): Dropout(p=0.1, inplace=False)\n",
              "            )\n",
              "          )\n",
              "          (intermediate): BertIntermediate(\n",
              "            (dense): Linear(in_features=768, out_features=3072, bias=True)\n",
              "            (intermediate_act_fn): GELUActivation()\n",
              "          )\n",
              "          (output): BertOutput(\n",
              "            (dense): Linear(in_features=3072, out_features=768, bias=True)\n",
              "            (LayerNorm): LayerNorm((768,), eps=1e-12, elementwise_affine=True)\n",
              "            (dropout): Dropout(p=0.1, inplace=False)\n",
              "          )\n",
              "        )\n",
              "        (8): BertLayer(\n",
              "          (attention): BertAttention(\n",
              "            (self): BertSelfAttention(\n",
              "              (query): Linear(in_features=768, out_features=768, bias=True)\n",
              "              (key): Linear(in_features=768, out_features=768, bias=True)\n",
              "              (value): Linear(in_features=768, out_features=768, bias=True)\n",
              "              (dropout): Dropout(p=0.1, inplace=False)\n",
              "            )\n",
              "            (output): BertSelfOutput(\n",
              "              (dense): Linear(in_features=768, out_features=768, bias=True)\n",
              "              (LayerNorm): LayerNorm((768,), eps=1e-12, elementwise_affine=True)\n",
              "              (dropout): Dropout(p=0.1, inplace=False)\n",
              "            )\n",
              "          )\n",
              "          (intermediate): BertIntermediate(\n",
              "            (dense): Linear(in_features=768, out_features=3072, bias=True)\n",
              "            (intermediate_act_fn): GELUActivation()\n",
              "          )\n",
              "          (output): BertOutput(\n",
              "            (dense): Linear(in_features=3072, out_features=768, bias=True)\n",
              "            (LayerNorm): LayerNorm((768,), eps=1e-12, elementwise_affine=True)\n",
              "            (dropout): Dropout(p=0.1, inplace=False)\n",
              "          )\n",
              "        )\n",
              "        (9): BertLayer(\n",
              "          (attention): BertAttention(\n",
              "            (self): BertSelfAttention(\n",
              "              (query): Linear(in_features=768, out_features=768, bias=True)\n",
              "              (key): Linear(in_features=768, out_features=768, bias=True)\n",
              "              (value): Linear(in_features=768, out_features=768, bias=True)\n",
              "              (dropout): Dropout(p=0.1, inplace=False)\n",
              "            )\n",
              "            (output): BertSelfOutput(\n",
              "              (dense): Linear(in_features=768, out_features=768, bias=True)\n",
              "              (LayerNorm): LayerNorm((768,), eps=1e-12, elementwise_affine=True)\n",
              "              (dropout): Dropout(p=0.1, inplace=False)\n",
              "            )\n",
              "          )\n",
              "          (intermediate): BertIntermediate(\n",
              "            (dense): Linear(in_features=768, out_features=3072, bias=True)\n",
              "            (intermediate_act_fn): GELUActivation()\n",
              "          )\n",
              "          (output): BertOutput(\n",
              "            (dense): Linear(in_features=3072, out_features=768, bias=True)\n",
              "            (LayerNorm): LayerNorm((768,), eps=1e-12, elementwise_affine=True)\n",
              "            (dropout): Dropout(p=0.1, inplace=False)\n",
              "          )\n",
              "        )\n",
              "        (10): BertLayer(\n",
              "          (attention): BertAttention(\n",
              "            (self): BertSelfAttention(\n",
              "              (query): Linear(in_features=768, out_features=768, bias=True)\n",
              "              (key): Linear(in_features=768, out_features=768, bias=True)\n",
              "              (value): Linear(in_features=768, out_features=768, bias=True)\n",
              "              (dropout): Dropout(p=0.1, inplace=False)\n",
              "            )\n",
              "            (output): BertSelfOutput(\n",
              "              (dense): Linear(in_features=768, out_features=768, bias=True)\n",
              "              (LayerNorm): LayerNorm((768,), eps=1e-12, elementwise_affine=True)\n",
              "              (dropout): Dropout(p=0.1, inplace=False)\n",
              "            )\n",
              "          )\n",
              "          (intermediate): BertIntermediate(\n",
              "            (dense): Linear(in_features=768, out_features=3072, bias=True)\n",
              "            (intermediate_act_fn): GELUActivation()\n",
              "          )\n",
              "          (output): BertOutput(\n",
              "            (dense): Linear(in_features=3072, out_features=768, bias=True)\n",
              "            (LayerNorm): LayerNorm((768,), eps=1e-12, elementwise_affine=True)\n",
              "            (dropout): Dropout(p=0.1, inplace=False)\n",
              "          )\n",
              "        )\n",
              "        (11): BertLayer(\n",
              "          (attention): BertAttention(\n",
              "            (self): BertSelfAttention(\n",
              "              (query): Linear(in_features=768, out_features=768, bias=True)\n",
              "              (key): Linear(in_features=768, out_features=768, bias=True)\n",
              "              (value): Linear(in_features=768, out_features=768, bias=True)\n",
              "              (dropout): Dropout(p=0.1, inplace=False)\n",
              "            )\n",
              "            (output): BertSelfOutput(\n",
              "              (dense): Linear(in_features=768, out_features=768, bias=True)\n",
              "              (LayerNorm): LayerNorm((768,), eps=1e-12, elementwise_affine=True)\n",
              "              (dropout): Dropout(p=0.1, inplace=False)\n",
              "            )\n",
              "          )\n",
              "          (intermediate): BertIntermediate(\n",
              "            (dense): Linear(in_features=768, out_features=3072, bias=True)\n",
              "            (intermediate_act_fn): GELUActivation()\n",
              "          )\n",
              "          (output): BertOutput(\n",
              "            (dense): Linear(in_features=3072, out_features=768, bias=True)\n",
              "            (LayerNorm): LayerNorm((768,), eps=1e-12, elementwise_affine=True)\n",
              "            (dropout): Dropout(p=0.1, inplace=False)\n",
              "          )\n",
              "        )\n",
              "      )\n",
              "    )\n",
              "    (pooler): BertPooler(\n",
              "      (dense): Linear(in_features=768, out_features=768, bias=True)\n",
              "      (activation): Tanh()\n",
              "    )\n",
              "  )\n",
              "  (dropout): Dropout(p=0.1, inplace=False)\n",
              "  (classifier): Linear(in_features=768, out_features=2, bias=True)\n",
              ")"
            ]
          },
          "metadata": {},
          "execution_count": 22
        }
      ]
    },
    {
      "cell_type": "code",
      "source": [
        "from sklearn.metrics import accuracy_score, f1_score, recall_score, precision_score, confusion_matrix\n",
        "\n",
        "def compute_metrics(eval_pred):\n",
        "    predictions, labels = eval_pred\n",
        "    predictions = np.argmax(predictions, axis=1)\n",
        "    return {'accuracy' : accuracy_score(predictions, labels),\n",
        "            'precision' : precision_score(predictions, labels),\n",
        "            'recall' : recall_score(predictions, labels),\n",
        "            'f1 measure' : f1_score(predictions, labels)}"
      ],
      "metadata": {
        "id": "TkZmTqeTu7Dj"
      },
      "execution_count": 23,
      "outputs": []
    },
    {
      "cell_type": "code",
      "source": [
        "args = TrainingArguments(\n",
        "    \"test-glue\",\n",
        "    evaluation_strategy = \"steps\",\n",
        "    learning_rate=1e-5,\n",
        "    per_device_train_batch_size=64,\n",
        "    per_device_eval_batch_size=64,\n",
        "    num_train_epochs=3,\n",
        "    weight_decay=0.05,\n",
        "    #load_best_model_at_end=True,\n",
        "    report_to=None,\n",
        "    metric_for_best_model = 'accuracy'\n",
        "    )\n",
        "trainer = Trainer(\n",
        "    model,\n",
        "    args,\n",
        "    train_dataset=train_dataset,\n",
        "    eval_dataset=valid_dataset,\n",
        "    tokenizer=tokenizer,\n",
        "    compute_metrics=compute_metrics\n",
        "    )\n",
        "trainer.train()"
      ],
      "metadata": {
        "colab": {
          "base_uri": "https://localhost:8080/",
          "height": 1000
        },
        "id": "MsneWtHEtx3z",
        "outputId": "ae1361a2-70c2-4405-fda2-3fe5c4aa436c"
      },
      "execution_count": 24,
      "outputs": [
        {
          "output_type": "stream",
          "name": "stderr",
          "text": [
            "/usr/local/lib/python3.8/dist-packages/transformers/optimization.py:306: FutureWarning: This implementation of AdamW is deprecated and will be removed in a future version. Use the PyTorch implementation torch.optim.AdamW instead, or set `no_deprecation_warning=True` to disable this warning\n",
            "  warnings.warn(\n",
            "***** Running training *****\n",
            "  Num examples = 120771\n",
            "  Num Epochs = 3\n",
            "  Instantaneous batch size per device = 64\n",
            "  Total train batch size (w. parallel, distributed & accumulation) = 64\n",
            "  Gradient Accumulation steps = 1\n",
            "  Total optimization steps = 5664\n",
            "  Number of trainable parameters = 177854978\n",
            "You're using a BertTokenizerFast tokenizer. Please note that with a fast tokenizer, using the `__call__` method is faster than using a method to encode the text followed by a call to the `pad` method to get a padded encoding.\n"
          ]
        },
        {
          "output_type": "display_data",
          "data": {
            "text/plain": [
              "<IPython.core.display.HTML object>"
            ],
            "text/html": [
              "\n",
              "    <div>\n",
              "      \n",
              "      <progress value='5664' max='5664' style='width:300px; height:20px; vertical-align: middle;'></progress>\n",
              "      [5664/5664 1:45:21, Epoch 3/3]\n",
              "    </div>\n",
              "    <table border=\"1\" class=\"dataframe\">\n",
              "  <thead>\n",
              " <tr style=\"text-align: left;\">\n",
              "      <th>Step</th>\n",
              "      <th>Training Loss</th>\n",
              "      <th>Validation Loss</th>\n",
              "      <th>Accuracy</th>\n",
              "      <th>Precision</th>\n",
              "      <th>Recall</th>\n",
              "      <th>F1 measure</th>\n",
              "    </tr>\n",
              "  </thead>\n",
              "  <tbody>\n",
              "    <tr>\n",
              "      <td>500</td>\n",
              "      <td>0.249100</td>\n",
              "      <td>0.186621</td>\n",
              "      <td>0.928723</td>\n",
              "      <td>0.853943</td>\n",
              "      <td>0.890511</td>\n",
              "      <td>0.871844</td>\n",
              "    </tr>\n",
              "    <tr>\n",
              "      <td>1000</td>\n",
              "      <td>0.178900</td>\n",
              "      <td>0.160072</td>\n",
              "      <td>0.939520</td>\n",
              "      <td>0.843910</td>\n",
              "      <td>0.936804</td>\n",
              "      <td>0.887934</td>\n",
              "    </tr>\n",
              "    <tr>\n",
              "      <td>1500</td>\n",
              "      <td>0.164900</td>\n",
              "      <td>0.149237</td>\n",
              "      <td>0.943561</td>\n",
              "      <td>0.837378</td>\n",
              "      <td>0.958600</td>\n",
              "      <td>0.893898</td>\n",
              "    </tr>\n",
              "    <tr>\n",
              "      <td>2000</td>\n",
              "      <td>0.151700</td>\n",
              "      <td>0.151679</td>\n",
              "      <td>0.945416</td>\n",
              "      <td>0.834811</td>\n",
              "      <td>0.968598</td>\n",
              "      <td>0.896742</td>\n",
              "    </tr>\n",
              "    <tr>\n",
              "      <td>2500</td>\n",
              "      <td>0.135000</td>\n",
              "      <td>0.152416</td>\n",
              "      <td>0.949391</td>\n",
              "      <td>0.853243</td>\n",
              "      <td>0.964399</td>\n",
              "      <td>0.905422</td>\n",
              "    </tr>\n",
              "    <tr>\n",
              "      <td>3000</td>\n",
              "      <td>0.130700</td>\n",
              "      <td>0.151200</td>\n",
              "      <td>0.949457</td>\n",
              "      <td>0.860476</td>\n",
              "      <td>0.957176</td>\n",
              "      <td>0.906254</td>\n",
              "    </tr>\n",
              "    <tr>\n",
              "      <td>3500</td>\n",
              "      <td>0.122300</td>\n",
              "      <td>0.135141</td>\n",
              "      <td>0.950517</td>\n",
              "      <td>0.867009</td>\n",
              "      <td>0.954534</td>\n",
              "      <td>0.908669</td>\n",
              "    </tr>\n",
              "    <tr>\n",
              "      <td>4000</td>\n",
              "      <td>0.118400</td>\n",
              "      <td>0.137323</td>\n",
              "      <td>0.952438</td>\n",
              "      <td>0.869809</td>\n",
              "      <td>0.958848</td>\n",
              "      <td>0.912161</td>\n",
              "    </tr>\n",
              "    <tr>\n",
              "      <td>4500</td>\n",
              "      <td>0.104200</td>\n",
              "      <td>0.141208</td>\n",
              "      <td>0.952173</td>\n",
              "      <td>0.880541</td>\n",
              "      <td>0.947289</td>\n",
              "      <td>0.912696</td>\n",
              "    </tr>\n",
              "    <tr>\n",
              "      <td>5000</td>\n",
              "      <td>0.104700</td>\n",
              "      <td>0.135517</td>\n",
              "      <td>0.953034</td>\n",
              "      <td>0.872375</td>\n",
              "      <td>0.958472</td>\n",
              "      <td>0.913399</td>\n",
              "    </tr>\n",
              "    <tr>\n",
              "      <td>5500</td>\n",
              "      <td>0.104600</td>\n",
              "      <td>0.133515</td>\n",
              "      <td>0.953696</td>\n",
              "      <td>0.878441</td>\n",
              "      <td>0.954857</td>\n",
              "      <td>0.915057</td>\n",
              "    </tr>\n",
              "  </tbody>\n",
              "</table><p>"
            ]
          },
          "metadata": {}
        },
        {
          "output_type": "stream",
          "name": "stderr",
          "text": [
            "***** Running Evaluation *****\n",
            "  Num examples = 15096\n",
            "  Batch size = 64\n",
            "Saving model checkpoint to test-glue/checkpoint-500\n",
            "Configuration saved in test-glue/checkpoint-500/config.json\n",
            "Model weights saved in test-glue/checkpoint-500/pytorch_model.bin\n",
            "tokenizer config file saved in test-glue/checkpoint-500/tokenizer_config.json\n",
            "Special tokens file saved in test-glue/checkpoint-500/special_tokens_map.json\n",
            "***** Running Evaluation *****\n",
            "  Num examples = 15096\n",
            "  Batch size = 64\n",
            "Saving model checkpoint to test-glue/checkpoint-1000\n",
            "Configuration saved in test-glue/checkpoint-1000/config.json\n",
            "Model weights saved in test-glue/checkpoint-1000/pytorch_model.bin\n",
            "tokenizer config file saved in test-glue/checkpoint-1000/tokenizer_config.json\n",
            "Special tokens file saved in test-glue/checkpoint-1000/special_tokens_map.json\n",
            "***** Running Evaluation *****\n",
            "  Num examples = 15096\n",
            "  Batch size = 64\n",
            "Saving model checkpoint to test-glue/checkpoint-1500\n",
            "Configuration saved in test-glue/checkpoint-1500/config.json\n",
            "Model weights saved in test-glue/checkpoint-1500/pytorch_model.bin\n",
            "tokenizer config file saved in test-glue/checkpoint-1500/tokenizer_config.json\n",
            "Special tokens file saved in test-glue/checkpoint-1500/special_tokens_map.json\n",
            "***** Running Evaluation *****\n",
            "  Num examples = 15096\n",
            "  Batch size = 64\n",
            "Saving model checkpoint to test-glue/checkpoint-2000\n",
            "Configuration saved in test-glue/checkpoint-2000/config.json\n",
            "Model weights saved in test-glue/checkpoint-2000/pytorch_model.bin\n",
            "tokenizer config file saved in test-glue/checkpoint-2000/tokenizer_config.json\n",
            "Special tokens file saved in test-glue/checkpoint-2000/special_tokens_map.json\n",
            "***** Running Evaluation *****\n",
            "  Num examples = 15096\n",
            "  Batch size = 64\n",
            "Saving model checkpoint to test-glue/checkpoint-2500\n",
            "Configuration saved in test-glue/checkpoint-2500/config.json\n",
            "Model weights saved in test-glue/checkpoint-2500/pytorch_model.bin\n",
            "tokenizer config file saved in test-glue/checkpoint-2500/tokenizer_config.json\n",
            "Special tokens file saved in test-glue/checkpoint-2500/special_tokens_map.json\n",
            "***** Running Evaluation *****\n",
            "  Num examples = 15096\n",
            "  Batch size = 64\n",
            "Saving model checkpoint to test-glue/checkpoint-3000\n",
            "Configuration saved in test-glue/checkpoint-3000/config.json\n",
            "Model weights saved in test-glue/checkpoint-3000/pytorch_model.bin\n",
            "tokenizer config file saved in test-glue/checkpoint-3000/tokenizer_config.json\n",
            "Special tokens file saved in test-glue/checkpoint-3000/special_tokens_map.json\n",
            "***** Running Evaluation *****\n",
            "  Num examples = 15096\n",
            "  Batch size = 64\n",
            "Saving model checkpoint to test-glue/checkpoint-3500\n",
            "Configuration saved in test-glue/checkpoint-3500/config.json\n",
            "Model weights saved in test-glue/checkpoint-3500/pytorch_model.bin\n",
            "tokenizer config file saved in test-glue/checkpoint-3500/tokenizer_config.json\n",
            "Special tokens file saved in test-glue/checkpoint-3500/special_tokens_map.json\n",
            "***** Running Evaluation *****\n",
            "  Num examples = 15096\n",
            "  Batch size = 64\n",
            "Saving model checkpoint to test-glue/checkpoint-4000\n",
            "Configuration saved in test-glue/checkpoint-4000/config.json\n",
            "Model weights saved in test-glue/checkpoint-4000/pytorch_model.bin\n",
            "tokenizer config file saved in test-glue/checkpoint-4000/tokenizer_config.json\n",
            "Special tokens file saved in test-glue/checkpoint-4000/special_tokens_map.json\n",
            "***** Running Evaluation *****\n",
            "  Num examples = 15096\n",
            "  Batch size = 64\n",
            "Saving model checkpoint to test-glue/checkpoint-4500\n",
            "Configuration saved in test-glue/checkpoint-4500/config.json\n",
            "Model weights saved in test-glue/checkpoint-4500/pytorch_model.bin\n",
            "tokenizer config file saved in test-glue/checkpoint-4500/tokenizer_config.json\n",
            "Special tokens file saved in test-glue/checkpoint-4500/special_tokens_map.json\n",
            "***** Running Evaluation *****\n",
            "  Num examples = 15096\n",
            "  Batch size = 64\n",
            "Saving model checkpoint to test-glue/checkpoint-5000\n",
            "Configuration saved in test-glue/checkpoint-5000/config.json\n",
            "Model weights saved in test-glue/checkpoint-5000/pytorch_model.bin\n",
            "tokenizer config file saved in test-glue/checkpoint-5000/tokenizer_config.json\n",
            "Special tokens file saved in test-glue/checkpoint-5000/special_tokens_map.json\n",
            "***** Running Evaluation *****\n",
            "  Num examples = 15096\n",
            "  Batch size = 64\n",
            "Saving model checkpoint to test-glue/checkpoint-5500\n",
            "Configuration saved in test-glue/checkpoint-5500/config.json\n",
            "Model weights saved in test-glue/checkpoint-5500/pytorch_model.bin\n",
            "tokenizer config file saved in test-glue/checkpoint-5500/tokenizer_config.json\n",
            "Special tokens file saved in test-glue/checkpoint-5500/special_tokens_map.json\n",
            "\n",
            "\n",
            "Training completed. Do not forget to share your model on huggingface.co/models =)\n",
            "\n",
            "\n"
          ]
        },
        {
          "output_type": "execute_result",
          "data": {
            "text/plain": [
              "TrainOutput(global_step=5664, training_loss=0.14106072611727957, metrics={'train_runtime': 6323.5973, 'train_samples_per_second': 57.295, 'train_steps_per_second': 0.896, 'total_flos': 1.8618858554814e+16, 'train_loss': 0.14106072611727957, 'epoch': 3.0})"
            ]
          },
          "metadata": {},
          "execution_count": 24
        }
      ]
    },
    {
      "cell_type": "code",
      "source": [
        "class ClassifierLanguageModel():\n",
        "\tdef __init__(self, model,tokenizer):\n",
        "\t\tself.model = model\n",
        "\t\tself.tokenizer = tokenizer\n",
        "\n",
        "\tdef run(self, text):\n",
        "\t\tmodel_input = self.tokenizer.encode(text, return_tensors='pt').cuda()\n",
        "\t\tmodel_output = self.model.bert.config.id2label[self.model(model_input)['logits'].argmax().item()]\n",
        "\t\treturn model_output"
      ],
      "metadata": {
        "id": "0KcVoz2Xtx1M"
      },
      "execution_count": 25,
      "outputs": []
    },
    {
      "cell_type": "code",
      "source": [
        "classyfier = ClassifierLanguageModel(model,tokenizer)\n"
      ],
      "metadata": {
        "id": "inpuHgcttxy2"
      },
      "execution_count": 26,
      "outputs": []
    },
    {
      "cell_type": "code",
      "source": [
        "X1_test = X_test.apply(lambda x: ' '.join(x.split()))\n"
      ],
      "metadata": {
        "id": "IMoH2pDgtxwQ"
      },
      "execution_count": 28,
      "outputs": []
    },
    {
      "cell_type": "code",
      "source": [
        "X_test.to_numpy()"
      ],
      "metadata": {
        "colab": {
          "base_uri": "https://localhost:8080/"
        },
        "id": "wVqygUinwOQI",
        "outputId": "11fb9501-73d3-46bb-b406-3310714d4fc5"
      },
      "execution_count": 33,
      "outputs": [
        {
          "output_type": "execute_result",
          "data": {
            "text/plain": [
              "array(['оказание услуг по проведению экспертизы иили повторной экспертизы качества медицинской помощи по профилю  онкология  включая высокотехнологические методы лечения в условиях круглосуточного стационара для нужд тфомс мо в 2021 году ',\n",
              "       'наборы реагентов для иммунохемилюминесцентного анализа на анализаторах immulite one immulite 1000 immulite 2000 для invitro диагностики показателей нарушения гормонального статуса и аутоиммунных процессов набор реагентов для определения общего тестостеронаtotal testosterone 200 тестов соединенное королевство siemens healthcare diagnostics products limited 10381190',\n",
              "       'двухкомпонентный недренируемый калоприемник для втянутых стом в комплекте адгезивная пластина конвексная',\n",
              "       ...,\n",
              "       'ремонт протеза голени с заменой силиконового чехла и силиконового наконечника',\n",
              "       'измеритель артериального давления и частоты пульса автоматический omronm2 basichem7121alruизмеритель артериального давления и частоты пульса автоматический omronm2 basichem7121alru',\n",
              "       'поверка измерителя артериального давления механического cs meditech cs 105'],\n",
              "      dtype=object)"
            ]
          },
          "metadata": {},
          "execution_count": 33
        }
      ]
    },
    {
      "cell_type": "code",
      "source": [
        "m_input = tokenizer.encode(X_test.to_numpy()[0], return_tensors='pt').cuda()\n",
        "model.bert.config.id2label[model(m_input)['logits'].argmax().item()]"
      ],
      "metadata": {
        "colab": {
          "base_uri": "https://localhost:8080/"
        },
        "id": "MckqdczGvyAT",
        "outputId": "02c672fe-28d1-4ee1-812d-992ac6b9d0e8"
      },
      "execution_count": 36,
      "outputs": [
        {
          "output_type": "execute_result",
          "data": {
            "text/plain": [
              "0"
            ]
          },
          "metadata": {},
          "execution_count": 36
        }
      ]
    },
    {
      "cell_type": "code",
      "source": [
        "preds = []\n",
        "err = []\n",
        "reference = []\n",
        "for test, label in zip(X_test.to_numpy(), y_test.to_numpy()):\n",
        "  m_input = tokenizer.encode(test, return_tensors='pt').cuda()\n",
        "  try:\n",
        "    out = model.bert.config.id2label[model(m_input)['logits'].argmax().item()]\n",
        "    reference.append(label)\n",
        "    preds.append(out)\n",
        "  except RuntimeError:\n",
        "    continue"
      ],
      "metadata": {
        "id": "roQngQeUwemO"
      },
      "execution_count": 52,
      "outputs": []
    },
    {
      "cell_type": "code",
      "source": [
        "reference = []\n",
        "for label in y_test[:3000]:\n",
        "  reference.append(label)"
      ],
      "metadata": {
        "id": "KiBb5nGZw4vO"
      },
      "execution_count": 43,
      "outputs": []
    },
    {
      "cell_type": "code",
      "source": [
        "import matplotlib.pyplot as plt\n",
        "import seaborn as sns\n",
        "\n",
        "baseline_conf_mat = confusion_matrix(reference, preds)\n",
        "sns.heatmap(baseline_conf_mat, square= True, annot=True, cbar=False)\n",
        "plt.xlabel('predicted_value')\n",
        "plt.ylabel('true_value')\n"
      ],
      "metadata": {
        "colab": {
          "base_uri": "https://localhost:8080/",
          "height": 298
        },
        "id": "M49lWHn3txrj",
        "outputId": "b830b573-57ab-4b7f-e664-c7bc29bf7d40"
      },
      "execution_count": 55,
      "outputs": [
        {
          "output_type": "execute_result",
          "data": {
            "text/plain": [
              "Text(91.68, 0.5, 'true_value')"
            ]
          },
          "metadata": {},
          "execution_count": 55
        },
        {
          "output_type": "display_data",
          "data": {
            "text/plain": [
              "<Figure size 432x288 with 1 Axes>"
            ],
            "image/png": "[encoded data removed]"
          },
          "metadata": {
            "needs_background": "light"
          }
        }
      ]
    },
    {
      "cell_type": "code",
      "source": [
        "print('f1 score: ', f1_score(reference, preds))\n",
        "print('recall score: ', recall_score(reference, preds))\n",
        "print('precision score: ', precision_score(reference, preds))\n"
      ],
      "metadata": {
        "colab": {
          "base_uri": "https://localhost:8080/"
        },
        "id": "FIjY_0YstxpO",
        "outputId": "68d9a5cd-fea2-4a4f-ab01-23c4c4f7d8dc"
      },
      "execution_count": 56,
      "outputs": [
        {
          "output_type": "stream",
          "name": "stdout",
          "text": [
            "f1 score:  0.9153464175928115\n",
            "recall score:  0.8833865814696485\n",
            "precision score:  0.9497055937193327\n"
          ]
        }
      ]
    },
    {
      "cell_type": "code",
      "source": [
        "model = AutoModelForSequenceClassification.from_pretrained( config=\"/content/test-glue/checkpoint-5500/config.json\",\n",
        "    pretrained_model_name_or_path=\"/content/test-glue/checkpoint-5500/pytorch_model.bin\",\n",
        "                                            \n",
        "                                                           from_pt=True,\n",
        "                                                           label2id=label2id,id2label=id2label,\n",
        "                                                           num_labels=len(labels))\n"
      ],
      "metadata": {
        "id": "TB4aXGYhtxm3"
      },
      "execution_count": null,
      "outputs": []
    },
    {
      "cell_type": "code",
      "source": [],
      "metadata": {
        "id": "fKD0nzjMtxkh"
      },
      "execution_count": null,
      "outputs": []
    },
    {
      "cell_type": "code",
      "source": [],
      "metadata": {
        "id": "GhKCO76ctxiM"
      },
      "execution_count": null,
      "outputs": []
    },
    {
      "cell_type": "code",
      "source": [],
      "metadata": {
        "id": "pdl7ZFUUtxf3"
      },
      "execution_count": null,
      "outputs": []
    },
    {
      "cell_type": "code",
      "source": [],
      "metadata": {
        "id": "sfaYp3vatxdf"
      },
      "execution_count": null,
      "outputs": []
    },
    {
      "cell_type": "code",
      "source": [],
      "metadata": {
        "id": "tMZdnOQbtxa5"
      },
      "execution_count": null,
      "outputs": []
    },
    {
      "cell_type": "code",
      "source": [],
      "metadata": {
        "id": "pTIH7jmEtxYi"
      },
      "execution_count": null,
      "outputs": []
    },
    {
      "cell_type": "code",
      "source": [],
      "metadata": {
        "id": "C70scURftxV8"
      },
      "execution_count": null,
      "outputs": []
    },
    {
      "cell_type": "code",
      "source": [],
      "metadata": {
        "id": "f3YCaTl5txTl"
      },
      "execution_count": null,
      "outputs": []
    },
    {
      "cell_type": "code",
      "source": [],
      "metadata": {
        "id": "_37vgLDbtxQ_"
      },
      "execution_count": null,
      "outputs": []
    },
    {
      "cell_type": "code",
      "source": [],
      "metadata": {
        "id": "ajNlAGn-txO5"
      },
      "execution_count": null,
      "outputs": []
    },
    {
      "cell_type": "code",
      "source": [],
      "metadata": {
        "id": "LXt7zipXtxMk"
      },
      "execution_count": null,
      "outputs": []
    },
    {
      "cell_type": "code",
      "source": [],
      "metadata": {
        "id": "FFVinAV2txKO"
      },
      "execution_count": null,
      "outputs": []
    },
    {
      "cell_type": "code",
      "source": [],
      "metadata": {
        "id": "7eJ_1lUctxH-"
      },
      "execution_count": null,
      "outputs": []
    },
    {
      "cell_type": "code",
      "source": [],
      "metadata": {
        "id": "Imgc61e6txFy"
      },
      "execution_count": null,
      "outputs": []
    },
    {
      "cell_type": "code",
      "source": [],
      "metadata": {
        "id": "CMGYgTJ9txDL"
      },
      "execution_count": null,
      "outputs": []
    },
    {
      "cell_type": "code",
      "source": [],
      "metadata": {
        "id": "odsJfsREtxAm"
      },
      "execution_count": null,
      "outputs": []
    },
    {
      "cell_type": "code",
      "metadata": {
        "id": "iawSE9-YH4SA",
        "colab": {
          "base_uri": "https://localhost:8080/"
        },
        "outputId": "d9fc70b9-efa5-43dc-c65f-a515554e4e07"
      },
      "source": [
        "def encode_data(tokenizer, questions):#, passages, max_length):\n",
        "    \"\"\"Encode the question/passage pairs into features than can be fed to the model.\"\"\"\n",
        "    input_ids = []\n",
        "    attention_masks = []\n",
        "\n",
        "    for question in questions:#, passage in zip(questions, passages):\n",
        "        encoded_data = tokenizer(question)#, pad_to_max_length=True, truncation_strategy=\"longest_first\") #\n",
        "\n",
        "        #encoded_data = tokenizer.encode_plus(question, passage, max_length=max_length, pad_to_max_length=True, truncation_strategy=\"longest_first\")\n",
        "        encoded_pair = encoded_data[\"input_ids\"]\n",
        "        attention_mask = encoded_data[\"attention_mask\"]\n",
        "\n",
        "        input_ids.append(encoded_pair)\n",
        "        attention_masks.append(attention_mask)\n",
        "\n",
        "    return np.array(input_ids), np.array(attention_masks)\n",
        "\n",
        "# Loading data\n",
        "\"\"\"train_data_df = X_train.to_list()#pd.read_json(\"train.jsonl\", lines=True, orient='records')\n",
        "dev_data_df = X_test.to_list()#pd.read_json(\"val.jsonl\", lines=True, orient=\"records\")\n",
        "\n",
        "passages_train = train_data_df.passage.values\n",
        "questions_train = train_data_df.question.values\n",
        "answers_train = [1 if ans else 0 for ans in train_data_df.label.values]\n",
        "answers_train = train_data_df.label.values.astype(int)\n",
        "\n",
        "passages_dev = dev_data_df.passage.values\n",
        "questions_dev = dev_data_df.question.values\n",
        "answers_dev = [1 if ans else 0 for ans in dev_data_df.label.values]\"\"\"\n",
        "\n",
        "# Encoding data\n",
        "#max_seq_length = 256\n",
        "input_ids_train, attention_masks_train = encode_data(tokenizer, X_train)\n",
        "input_ids_dev, attention_masks_dev = encode_data(tokenizer, X_test)\n",
        "\n",
        "train_features = (input_ids_train, attention_masks_train, y_train)\n",
        "dev_features = (input_ids_dev, attention_masks_dev, y_test)"
      ],
      "execution_count": 77,
      "outputs": [
        {
          "output_type": "stream",
          "name": "stderr",
          "text": [
            "<ipython-input-77-d12139c63f06>:16: VisibleDeprecationWarning: Creating an ndarray from ragged nested sequences (which is a list-or-tuple of lists-or-tuples-or ndarrays with different lengths or shapes) is deprecated. If you meant to do this, you must specify 'dtype=object' when creating the ndarray.\n",
            "  return np.array(input_ids), np.array(attention_masks)\n"
          ]
        }
      ]
    },
    {
      "cell_type": "code",
      "source": [
        "print(train_features[0])\n",
        "print(len(train_features[2]))\n",
        "print(\"**\"*50)\n",
        "print(type(train_features[0][0][0]))\n"
      ],
      "metadata": {
        "colab": {
          "base_uri": "https://localhost:8080/"
        },
        "id": "RIoIENPJoVK9",
        "outputId": "2957d96e-8137-4149-af69-df77e42425ba"
      },
      "execution_count": 57,
      "outputs": [
        {
          "output_type": "stream",
          "name": "stdout",
          "text": [
            "[list([101, 13128, 2748, 50630, 74180, 45066, 869, 76204, 2748, 45883, 1766, 26403, 8382, 85558, 784, 851, 72416, 102])\n",
            " list([101, 10407, 1916, 89586, 1770, 52967, 75172, 54492, 23738, 45749, 23086, 30673, 130, 8273, 120, 148, 866, 122, 102])\n",
            " list([101, 35891, 59788, 20511, 7683, 2704, 124, 14470, 4414, 132, 20966, 43107, 102])\n",
            " ... list([101, 62132, 74590, 40754, 1501, 17643, 153, 102])\n",
            " list([101, 34797, 103497, 860, 13128, 33092, 1758, 3614, 1916, 15276, 14018, 892, 1916, 108, 52967, 816, 794, 792, 23082, 108, 102])\n",
            " list([101, 11501, 22998, 16445, 10392, 44480, 128, 3474, 5405, 1636, 17211, 46801, 16117, 128, 68458, 1388, 817, 132, 102])]\n",
            "113223\n",
            "****************************************************************************************************\n",
            "<class 'int'>\n"
          ]
        }
      ]
    },
    {
      "cell_type": "code",
      "metadata": {
        "id": "E8AEwrVnH_LI"
      },
      "source": [
        "# Building Dataloaders\n",
        "batch_size = 32\n",
        "\n",
        "train_features_tensors = [torch.tensor(feature) for feature in train_features]\n",
        "dev_features_tensors = [torch.tensor(feature) for feature in dev_features]\n",
        "\n",
        "train_dataset = TensorDataset(*train_features_tensors)\n",
        "dev_dataset = TensorDataset(*dev_features_tensors)\n",
        "\n",
        "train_sampler = RandomSampler(train_dataset)\n",
        "dev_sampler = SequentialSampler(dev_dataset)\n",
        "\n",
        "train_dataloader = DataLoader(train_dataset, sampler=train_sampler, batch_size=batch_size)\n",
        "dev_dataloader = DataLoader(dev_dataset, sampler=dev_sampler, batch_size=batch_size)"
      ],
      "execution_count": null,
      "outputs": []
    },
    {
      "cell_type": "code",
      "metadata": {
        "id": "YbjjBj-eIBO6"
      },
      "source": [
        "epochs = 10\n",
        "grad_acc_steps = 1\n",
        "train_loss_values = []\n",
        "dev_acc_values = []\n",
        "\n",
        "for epoch in tqdm(range(epochs), desc=\"Epoch\"):\n",
        "  # Training\n",
        "  epoch_train_loss = 0 # Cumulative loss\n",
        "  model.train()\n",
        "  model.zero_grad()\n",
        "\n",
        "  for step, batch in enumerate(train_dataloader):\n",
        "\n",
        "      input_ids = batch[0].to(device)\n",
        "      attention_masks = batch[1].to(device)\n",
        "      labels = batch[2].to(device)     \n",
        "\n",
        "      outputs = model(input_ids, attention_mask=attention_masks, labels=labels)\n",
        "\n",
        "      loss = outputs[0]\n",
        "      loss = loss / grad_acc_steps\n",
        "      epoch_train_loss += loss.item()\n",
        "\n",
        "      loss.backward()\n",
        "      \n",
        "      if (step+1) % grad_acc_steps == 0: # Gradient accumulation is over\n",
        "        torch.nn.utils.clip_grad_norm_(model.parameters(), 1.0) # Clipping gradients\n",
        "        optimizer.step()\n",
        "        model.zero_grad()\n",
        "\n",
        "  epoch_train_loss = epoch_train_loss / len(train_dataloader)          \n",
        "  train_loss_values.append(epoch_train_loss)\n",
        "  \n",
        "  # Evaluation\n",
        "  epoch_dev_accuracy = 0 # Cumulative accuracy\n",
        "  model.eval()\n",
        "\n",
        "  for batch in dev_dataloader:\n",
        "    \n",
        "    input_ids = batch[0].to(device)\n",
        "    attention_masks = batch[1].to(device)\n",
        "    labels = batch[2]\n",
        "    \n",
        "    with torch.no_grad():        \n",
        "        outputs = model(input_ids, attention_mask=attention_masks)\n",
        "                    \n",
        "    logits = outputs[0]\n",
        "    logits = logits.detach().cpu().numpy()\n",
        "    \n",
        "    predictions = np.argmax(logits, axis=1).flatten()\n",
        "    labels = labels.numpy().flatten()\n",
        "    \n",
        "    epoch_dev_accuracy += np.sum(predictions == labels) / len(labels)\n",
        "\n",
        "  epoch_dev_accuracy = epoch_dev_accuracy / len(dev_dataloader)\n",
        "  print('Epoch', epoch)\n",
        "  print('Accuracy:', round(epoch_dev_accuracy, 4),'\\n')\n",
        "  dev_acc_values.append(epoch_dev_accuracy)"
      ],
      "execution_count": null,
      "outputs": []
    }
  ]
}